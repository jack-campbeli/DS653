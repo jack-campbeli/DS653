{
 "cells": [
  {
   "cell_type": "code",
   "execution_count": 12,
   "metadata": {
    "deletable": false,
    "editable": false
   },
   "outputs": [],
   "source": [
    "# Initialize Otter\n",
    "import otter\n",
    "grader = otter.Notebook(\"assignment8.ipynb\")"
   ]
  },
  {
   "cell_type": "markdown",
   "metadata": {},
   "source": [
    "# DS 453 / 653: Programming Assignment 8\n",
    "\n",
    "**Due date**: Thursday, April 11 at 8pm on [Gradescope](https://www.gradescope.com/courses/710247).\n",
    "\n",
    "_You must follow the Academic Code of Conduct and Collaboration Policy stated in the course syllabus at all times while working on this assignment._\n",
    "\n",
    "This assignment contains 2 questions. *Only the first part is auto-graded, and the second part will be manually graded*. You must successfully complete both parts in order to pass this assignment.\n",
    "\n",
    "To begin, please execute the code block below:"
   ]
  },
  {
   "cell_type": "code",
   "execution_count": 13,
   "metadata": {},
   "outputs": [],
   "source": [
    "import otter\n",
    "grader = otter.Notebook()"
   ]
  },
  {
   "cell_type": "markdown",
   "metadata": {},
   "source": [
    "## Assignment Overview\n",
    "\n",
    "The goal of this assignment is to design a secure multi-party computation protocol.\n",
    "\n",
    "### Problem setup\n",
    "\n",
    "Here is the problem setup: David has four numbers $x_0$, $x_1$, and $x_2$, and he wants to compute the function $g(\\vec{x}) = (x_0 \\cdot x_1) + x_2$, where the entire computation occurs mod $256$.\n",
    "\n",
    "If David had computing power, he would could the function on his own as shown in the following code block. (Note: the class `UInt8` will automatically perform modular arithmetic as needed to ensure that all integers stay in the range 0-255.)"
   ]
  },
  {
   "cell_type": "code",
   "execution_count": 14,
   "metadata": {},
   "outputs": [],
   "source": [
    "# Execute this code block if using Google Colab, or else install this package yourself\n",
    "# !pip install fixedint"
   ]
  },
  {
   "cell_type": "code",
   "execution_count": 15,
   "metadata": {},
   "outputs": [
    {
     "name": "stdout",
     "output_type": "stream",
     "text": [
      "<class 'list'>\n",
      "20\n"
     ]
    }
   ],
   "source": [
    "# Execute this code block, and make sure you understand its output before continuing\n",
    "\n",
    "from fixedint import UInt8\n",
    "\n",
    "def g(x):\n",
    "    return (x[0] * x[1]) + x[2]\n",
    "\n",
    "David_inputs = [UInt8(14), UInt8(19), UInt8(10)]\n",
    "print(type(David_inputs))\n",
    "\n",
    "print(g(David_inputs))"
   ]
  },
  {
   "cell_type": "markdown",
   "metadata": {},
   "source": [
    "Rather than computing the function on his own, however, David decides to outsource this computation. His friends Alice, Bob, and Carol are all willing to serve as cloud computing parties.\n",
    "\n",
    "While David is grateful for their assistance, he does not fully trust his friends with this sensitive data. More specifically: David views his friends as _semi-honest_ -- he believes they are not faulty and will correctly execute any code that you write in this homework assignment, but it is important that they do not learn David's secret data in the process."
   ]
  },
  {
   "cell_type": "markdown",
   "metadata": {},
   "source": [
    "### Synchronous Network\n",
    "\n",
    "To assist in this homework assignment, we're going to bring back the `SynchronousNetwork` from the previous homework. The following code block contains exactly the same code, except that the parties can send and receive lists of UInt8 numbers, rather than the values Zero, One, and Null in the previous homework."
   ]
  },
  {
   "cell_type": "code",
   "execution_count": 16,
   "metadata": {},
   "outputs": [],
   "source": [
    "## Execute, but DO NOT MODIFY this code block ##\n",
    "\n",
    "from typing import List\n",
    "import random\n",
    "from fixedint import UInt8\n",
    "\n",
    "# this method is used only for creating the debug log\n",
    "def printList(x: List[UInt8]):\n",
    "    if(x == None):\n",
    "        return '[]'\n",
    "    output = '[ '\n",
    "    for i in x:\n",
    "        output += str(i) + \" \"\n",
    "    output += ']'\n",
    "    return output\n",
    "\n",
    "# The Party class is a base class representing a single participant in a distributed protocol.\n",
    "# This party can choose what messages to send, and can record the contents of messages received.\n",
    "class Party:\n",
    "    def __init__(self, id: int, nb_faulty_parties: int, nb_total_parties: int, input: List[UInt8]):\n",
    "        # Precondition: we guarantee that the party's id is between 1 and n\n",
    "        self.id = id\n",
    "        # In your code, you should assume that the party is honest\n",
    "        # (we handle faulty parties separately in the SynchronousNetwork class)\n",
    "        self.input = input\n",
    "        self.is_faulty = False\n",
    "        self.f = nb_faulty_parties\n",
    "        self.n = nb_total_parties\n",
    "\n",
    "    # send and receive proceeds in rounds\n",
    "    # our SynchronousNetwork always completes one round before starting the next one\n",
    "    def send(self, round_number: int, destination_party: int) -> List[UInt8]:\n",
    "        return\n",
    "\n",
    "    def receive(self, round_number: int, sender_party: int, val: List[UInt8]) -> None:\n",
    "        # do an action based on what you receive from the sender party\n",
    "        # but don't return anything\n",
    "        return None\n",
    "\n",
    "    # the output method is only run once at the end of the protocol\n",
    "    # after all rounds of communication are complete\n",
    "    def output(self):\n",
    "        ## return what this party decides to output\n",
    "        return\n",
    "\n",
    "class SynchronousNetwork:\n",
    "    # faulty parties only matter for the optional task\n",
    "    def __init__(self, PartyType, nb_faulty_parties: int,\n",
    "                 nb_total_parties: int, inputs: list, debug=False):\n",
    "        # verify that f < n\n",
    "        assert(nb_faulty_parties < nb_total_parties)\n",
    "        assert(len(inputs) == nb_total_parties)\n",
    "        self.debug = debug\n",
    "\n",
    "        # creating several parties with the prescribed inputs\n",
    "        self.parties = [PartyType(i, nb_faulty_parties, nb_total_parties,\n",
    "                                  inputs[i-1]) for i in range(1, nb_total_parties + 1)]\n",
    "        self.debug_print(\"Inputs:\")\n",
    "        for i in range(1, nb_total_parties + 1):\n",
    "            self.debug_print(\"Party \" + str(i) + \" input: \" + printList(inputs[i-1]))\n",
    "\n",
    "        # randomly set some of the parties to be faulty, except the last one\n",
    "        for p in random.sample(self.parties, nb_faulty_parties):\n",
    "            if(p.id != 4):\n",
    "                p.is_faulty = True\n",
    "        self.leader = random.sample(self.parties, 1)[0]\n",
    "\n",
    "    def run(self, nb_rounds) -> list:\n",
    "        # execute all nb_rounds rounds of the synchronous protocol, in order\n",
    "        for i in range(1, nb_rounds + 1):\n",
    "            self.debug_print(\"\\nStart of round \" + str(i) + \":\")\n",
    "\n",
    "            for p1 in self.parties:\n",
    "                for p2 in self.parties:\n",
    "                    # each party can send one message to all parties (including itself!)\n",
    "                    val = SynchronousNetwork.send_with_errors(i, p1, p2.id)\n",
    "                    self.debug_print(\"party with id \" + str(p1.id) + \" sending to party with id \" \n",
    "                                         + str(p2.id) + \" a message with content: \" + printList(val))\n",
    "\n",
    "                    # recipient receives the message instantaneously\n",
    "                    p2.receive(i, p1.id, val)\n",
    "\n",
    "        # after all rounds are finished, retrieve each party's output\n",
    "        res = [p.output() for p in self.parties]\n",
    "\n",
    "        self.debug_print(\"\\nDavid's output: \" + str(res[3]) + \"\\n\")\n",
    "        return res\n",
    "\n",
    "    def send_with_errors(round_nb, sender, recv) -> List[UInt8]:\n",
    "        message = sender.send(round_nb, recv)\n",
    "\n",
    "        # for honest parties or most of the time for faulty parties,\n",
    "        # call the sender party and perform the action it wants\n",
    "        r = random.random()\n",
    "        if (not sender.is_faulty or r < 0.95):\n",
    "            return message\n",
    "        # for faulty parties, occasionally send random numbers\n",
    "        # this case only matters for the optional task\n",
    "        else:\n",
    "            for i in range(len(message)):\n",
    "                message[i] = UInt8(random.randrange(256))\n",
    "            return message\n",
    "\n",
    "    # pretty-printer that you can use to view the network communication\n",
    "    def debug_print(self, obj):\n",
    "        if self.debug:\n",
    "            print(obj)\n",
    "        else:\n",
    "            pass"
   ]
  },
  {
   "cell_type": "markdown",
   "metadata": {},
   "source": [
    "As a reminder: this code block provides two classes: a `Party` object that represents a single computer in a network, and a `SynchronousNetwork` that allows several `Party` objects to communicate. The network runs all of the parties (roughly) in parallel. You only have to write the code from the perspective of a single party $i$, and the network will handle the execution of all parties."
   ]
  },
  {
   "cell_type": "markdown",
   "metadata": {
    "deletable": false,
    "editable": false
   },
   "source": [
    "## Question 1: Construct the semi-honest 3-party secure computation protocol (3 points)\n",
    "\n",
    "__Your task__: Write Python code that executes the secure 3-party computation protocol based on replicated secret sharing, in order to calculate the function $f(\\vec{x})$.\n",
    "\n",
    "Concretely, run a 4-party synchronous network where Alice, Bob, Carol, and David have party ids 1 through 4, respectively. Only David receives any inputs, and only David should receive an output. The other parties should only compute over secret shares of David's data.\n",
    "\n",
    "__Your response__:\n",
    "\n",
    "_Points:_ 3"
   ]
  },
  {
   "attachments": {
    "image.png": {
     "image/png": "[encoded data removed]"
    }
   },
   "cell_type": "markdown",
   "metadata": {},
   "source": [
    "![image.png](attachment:image.png)"
   ]
  },
  {
   "cell_type": "code",
   "execution_count": 29,
   "metadata": {
    "tags": []
   },
   "outputs": [],
   "source": [
    "class MPCParty(Party):\n",
    "    def __init__(self, *args, **kwargs):  # has the same arguments as the base class\n",
    "        super().__init__(*args, **kwargs) # executes init from the base class\n",
    "        # def __init__(self, id: int, nb_faulty_parties: int, nb_total_parties: int, input: List[UInt8]):\n",
    "\n",
    "    def send(self, round_number: int, destination_party: int):\n",
    "        # TODO\n",
    "        # if round_number == 1:\n",
    "            \n",
    "        return None \n",
    "          \n",
    "\n",
    "    def receive(self, round_number: int, sender_party: int, val: List[UInt8]):\n",
    "        # TODO\n",
    "        if round_number == 1:\n",
    "            self.input = \n",
    "        if round_number == 2:\n",
    "            self.input = self.input * sender_party.input\n",
    "        if round_number == 3:\n",
    "            self.input = self.input + sender_party.input\n",
    "        return None\n",
    "\n",
    "    def output(self):\n",
    "        # TODO\n",
    "        return None "
   ]
  },
  {
   "cell_type": "code",
   "execution_count": 30,
   "metadata": {
    "tags": []
   },
   "outputs": [
    {
     "name": "stdout",
     "output_type": "stream",
     "text": [
      "Inputs:\n",
      "Party 1 input: [ ]\n",
      "Party 2 input: [ ]\n",
      "Party 3 input: [ ]\n",
      "Party 4 input: [ 14 19 10 ]\n",
      "\n",
      "Start of round 1:\n",
      "party with id 1 sending to party with id 1 a message with content: []\n"
     ]
    },
    {
     "ename": "TypeError",
     "evalue": "'NoneType' object is not subscriptable",
     "output_type": "error",
     "traceback": [
      "\u001b[1;31m---------------------------------------------------------------------------\u001b[0m",
      "\u001b[1;31mTypeError\u001b[0m                                 Traceback (most recent call last)",
      "Cell \u001b[1;32mIn[30], line 8\u001b[0m\n\u001b[0;32m      6\u001b[0m \u001b[38;5;66;03m# this question only asks about semi-honest security, so no parties are faulty\u001b[39;00m\n\u001b[0;32m      7\u001b[0m mpcNetwork \u001b[38;5;241m=\u001b[39m SynchronousNetwork(MPCParty, \u001b[38;5;241m0\u001b[39m, \u001b[38;5;241m4\u001b[39m, mpc_inputs, debug\u001b[38;5;241m=\u001b[39m\u001b[38;5;28;01mTrue\u001b[39;00m)\n\u001b[1;32m----> 8\u001b[0m result \u001b[38;5;241m=\u001b[39m mpcNetwork\u001b[38;5;241m.\u001b[39mrun(numRounds)\n\u001b[0;32m      9\u001b[0m \u001b[38;5;28;01massert\u001b[39;00m(result[\u001b[38;5;241m3\u001b[39m] \u001b[38;5;241m==\u001b[39m g(mpc_inputs[\u001b[38;5;241m3\u001b[39m]))\n",
      "Cell \u001b[1;32mIn[16], line 81\u001b[0m, in \u001b[0;36mSynchronousNetwork.run\u001b[1;34m(self, nb_rounds)\u001b[0m\n\u001b[0;32m     77\u001b[0m             \u001b[38;5;28mself\u001b[39m\u001b[38;5;241m.\u001b[39mdebug_print(\u001b[38;5;124m\"\u001b[39m\u001b[38;5;124mparty with id \u001b[39m\u001b[38;5;124m\"\u001b[39m \u001b[38;5;241m+\u001b[39m \u001b[38;5;28mstr\u001b[39m(p1\u001b[38;5;241m.\u001b[39mid) \u001b[38;5;241m+\u001b[39m \u001b[38;5;124m\"\u001b[39m\u001b[38;5;124m sending to party with id \u001b[39m\u001b[38;5;124m\"\u001b[39m \n\u001b[0;32m     78\u001b[0m                                  \u001b[38;5;241m+\u001b[39m \u001b[38;5;28mstr\u001b[39m(p2\u001b[38;5;241m.\u001b[39mid) \u001b[38;5;241m+\u001b[39m \u001b[38;5;124m\"\u001b[39m\u001b[38;5;124m a message with content: \u001b[39m\u001b[38;5;124m\"\u001b[39m \u001b[38;5;241m+\u001b[39m printList(val))\n\u001b[0;32m     80\u001b[0m             \u001b[38;5;66;03m# recipient receives the message instantaneously\u001b[39;00m\n\u001b[1;32m---> 81\u001b[0m             p2\u001b[38;5;241m.\u001b[39mreceive(i, p1\u001b[38;5;241m.\u001b[39mid, val)\n\u001b[0;32m     83\u001b[0m \u001b[38;5;66;03m# after all rounds are finished, retrieve each party's output\u001b[39;00m\n\u001b[0;32m     84\u001b[0m res \u001b[38;5;241m=\u001b[39m [p\u001b[38;5;241m.\u001b[39moutput() \u001b[38;5;28;01mfor\u001b[39;00m p \u001b[38;5;129;01min\u001b[39;00m \u001b[38;5;28mself\u001b[39m\u001b[38;5;241m.\u001b[39mparties]\n",
      "Cell \u001b[1;32mIn[29], line 19\u001b[0m, in \u001b[0;36mMPCParty.receive\u001b[1;34m(self, round_number, sender_party, val)\u001b[0m\n\u001b[0;32m     16\u001b[0m \u001b[38;5;28;01mdef\u001b[39;00m \u001b[38;5;21mreceive\u001b[39m(\u001b[38;5;28mself\u001b[39m, round_number: \u001b[38;5;28mint\u001b[39m, sender_party: \u001b[38;5;28mint\u001b[39m, val: List[UInt8]):\n\u001b[0;32m     17\u001b[0m     \u001b[38;5;66;03m# TODO\u001b[39;00m\n\u001b[0;32m     18\u001b[0m     \u001b[38;5;28;01mif\u001b[39;00m round_number \u001b[38;5;241m==\u001b[39m \u001b[38;5;241m1\u001b[39m:\n\u001b[1;32m---> 19\u001b[0m         \u001b[38;5;28mself\u001b[39m\u001b[38;5;241m.\u001b[39minput \u001b[38;5;241m=\u001b[39m val[\u001b[38;5;28mself\u001b[39m\u001b[38;5;241m.\u001b[39mid]\n\u001b[0;32m     20\u001b[0m     \u001b[38;5;28;01mif\u001b[39;00m round_number \u001b[38;5;241m==\u001b[39m \u001b[38;5;241m2\u001b[39m:\n\u001b[0;32m     21\u001b[0m         \u001b[38;5;28mself\u001b[39m\u001b[38;5;241m.\u001b[39minput \u001b[38;5;241m=\u001b[39m \u001b[38;5;28mself\u001b[39m\u001b[38;5;241m.\u001b[39minput \u001b[38;5;241m*\u001b[39m sender_party\u001b[38;5;241m.\u001b[39minput\n",
      "\u001b[1;31mTypeError\u001b[0m: 'NoneType' object is not subscriptable"
     ]
    },
    {
     "ename": "",
     "evalue": "",
     "output_type": "error",
     "traceback": [
      "\u001b[1;31mThe Kernel crashed while executing code in the current cell or a previous cell. \n",
      "\u001b[1;31mPlease review the code in the cell(s) to identify a possible cause of the failure. \n",
      "\u001b[1;31mClick <a href='https://aka.ms/vscodeJupyterKernelCrash'>here</a> for more info. \n",
      "\u001b[1;31mView Jupyter <a href='command:jupyter.viewOutput'>log</a> for further details."
     ]
    }
   ],
   "source": [
    "numRounds = 2 # replace this with the number of rounds in your protocol\n",
    "\n",
    "# David has 3 inputs, and everyone else has none\n",
    "mpc_inputs = [[],[],[], [UInt8(14), UInt8(19), UInt8(10)]]\n",
    "\n",
    "# this question only asks about semi-honest security, so no parties are faulty\n",
    "mpcNetwork = SynchronousNetwork(MPCParty, 0, 4, mpc_inputs, debug=True)\n",
    "result = mpcNetwork.run(numRounds)\n",
    "assert(result[3] == g(mpc_inputs[3]))"
   ]
  },
  {
   "cell_type": "code",
   "execution_count": null,
   "metadata": {
    "deletable": false,
    "editable": false
   },
   "outputs": [],
   "source": [
    "grader.check(\"q1\")"
   ]
  },
  {
   "cell_type": "markdown",
   "metadata": {},
   "source": [
    "## Question 2: Privacy of the secure computation protocol (2 points)\n",
    "\n",
    "Recall that a secure multi-party computation protocol must satisfy _correctness_ and _privacy_. The auto-grader in Question 1 only checked for correctness, meaning that your code produces the same result as the `g` function.\n",
    "\n",
    "__Your task:__ Explain in words why the protocol you implemented in Question 1 provides perfect privacy. That is: even though Alice, Bob, and Carol receive messages in this protocol, describe why they cannot learn anything about David's data. We anticipate that a response here should be around 1-2 paragraphs in length; that said, you may use any combination of words, code, formulas, figures, etc as needed to answer this question.\n",
    "\n",
    "__Your response__:"
   ]
  },
  {
   "cell_type": "markdown",
   "metadata": {},
   "source": [
    "## Submitting the Assignment\n",
    "\n",
    "Please follow these instructions to complete the assignment and submit it for credit.\n",
    "\n",
    "**Documenting collaborators, sources, and AI tools:** In accordance with the collaboration policy, use the space below to report if you used any resources to complete this homework assignment, aside from the lecture notes and the course textbooks/videos. Specifically, please report:\n",
    "\n",
    "1. Names of all classmates you worked with, and a short description of the work that you performed together.\n",
    "2. All written materials that you used, such as books or websites (besides the lecture notes or textbooks). Please include links to any web-based resources, or citations to any physical works.\n",
    "3. All code that you used from other sources. In particular, if you used an AI tool, then you must include the entire exchange with the AI tool, as per the [CDS Generative AI Assistance Policy](https://www.bu.edu/cds-faculty/culture-community/gaia-policy/).\n",
    "\n",
    "Remember that if we discover any undocumented collaborators, sources, or AI tools then this is grounds for a grade penalty and referral to BU's Academic Conduct Committee (as described in the syllabus)."
   ]
  },
  {
   "cell_type": "markdown",
   "metadata": {},
   "source": [
    "_Your response:_\n",
    "\n",
    "1.\n",
    "\n",
    "2.\n",
    "\n",
    "3."
   ]
  },
  {
   "cell_type": "markdown",
   "metadata": {},
   "source": [
    "**Sending to Gradescope:** After completing the assignment:\n",
    "- if you did the assignment on Colab, download it in `.ipynb` format.\n",
    "- if you did the assignment locally on your machine, all you need to do is to find it in your directory.\n",
    "\n",
    "Then, submit only the `.ipynb` file to this week's programming assignment on Gradescope. It may take a few seconds or a minute for the auto-grading system to check your work.\n",
    "\n",
    "Remember that you can submit as many times as you want until the deadline for the assignment; only your last score counts."
   ]
  },
  {
   "cell_type": "markdown",
   "metadata": {
    "deletable": false,
    "editable": false
   },
   "source": [
    "## Submission\n",
    "\n",
    "Make sure you have run all cells in your notebook in order before running the cell below, so that all images/graphs appear in the output. The cell below will generate a zip file for you to submit. **Please save before exporting!**\n",
    "\n",
    "Submit your assignment on Gradescope once you have passed enough tests to receive at least 4 of the 5 available points."
   ]
  },
  {
   "cell_type": "code",
   "execution_count": null,
   "metadata": {
    "deletable": false,
    "editable": false
   },
   "outputs": [],
   "source": [
    "# Save your notebook first, then run this cell to export your submission.\n",
    "grader.export(run_tests=True)"
   ]
  },
  {
   "cell_type": "markdown",
   "metadata": {},
   "source": [
    " "
   ]
  }
 ],
 "metadata": {
  "kernelspec": {
   "display_name": "ds453-grading",
   "language": "python",
   "name": "python3"
  },
  "language_info": {
   "codemirror_mode": {
    "name": "ipython",
    "version": 3
   },
   "file_extension": ".py",
   "mimetype": "text/x-python",
   "name": "python",
   "nbconvert_exporter": "python",
   "pygments_lexer": "ipython3",
   "version": "3.11.8"
  },
  "otter": {
   "OK_FORMAT": true,
   "tests": {
    "q1": {
     "name": "q1",
     "points": 3,
     "suites": [
      {
       "cases": [
        {
         "code": ">>> def test():\n...     numRounds = 2\n...     for _ in range(50000):\n...         mpc_inputs = [[], [], [], [UInt8(random.randrange(256)) for _ in range(3)]]\n...         mpcNetwork = SynchronousNetwork(MPCParty, 0, 4, mpc_inputs, debug=False)\n...         result = mpcNetwork.run(numRounds)\n...         assert result[3] == g(mpc_inputs[3])\n...     return True\n>>> test()\nTrue",
         "hidden": false,
         "locked": false
        }
       ],
       "scored": true,
       "setup": "",
       "teardown": "",
       "type": "doctest"
      }
     ]
    }
   }
  }
 },
 "nbformat": 4,
 "nbformat_minor": 2
}
