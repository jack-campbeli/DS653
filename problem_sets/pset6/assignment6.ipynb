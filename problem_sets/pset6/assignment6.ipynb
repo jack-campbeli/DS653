{
 "cells": [
  {
   "cell_type": "code",
   "execution_count": 1,
   "metadata": {
    "deletable": false,
    "editable": false,
    "scrolled": false
   },
   "outputs": [],
   "source": [
    "# Initialize Otter\n",
    "import otter\n",
    "grader = otter.Notebook(\"assignment6.ipynb\")"
   ]
  },
  {
   "cell_type": "markdown",
   "metadata": {},
   "source": [
    "# DS 453 / 653: Programming Assignment 6\n",
    "\n",
    "**Due date**: Sunday, March 31 at 8pm on [Gradescope](https://www.gradescope.com/courses/710247).\n",
    "\n",
    "_You must follow the Academic Code of Conduct and Collaboration Policy stated in the course syllabus at all times while working on this assignment._\n",
    "\n",
    "This assignment contains 3 questions worth a total of 5 points. You must receive at least 4 points to pass the assignment.\n",
    "\n",
    "To begin, please execute the code block below:"
   ]
  },
  {
   "cell_type": "code",
   "execution_count": 2,
   "metadata": {},
   "outputs": [],
   "source": [
    "import otter\n",
    "grader = otter.Notebook()"
   ]
  },
  {
   "cell_type": "code",
   "execution_count": 3,
   "metadata": {},
   "outputs": [
    {
     "name": "stdout",
     "output_type": "stream",
     "text": [
      "Requirement already satisfied: pycryptodome in c:\\users\\jackw\\appdata\\local\\programs\\python\\python311\\lib\\site-packages (3.20.0)\n",
      "Note: you may need to restart the kernel to use updated packages.\n"
     ]
    },
    {
     "name": "stderr",
     "output_type": "stream",
     "text": [
      "DEPRECATION: Loading egg at c:\\users\\jackw\\appdata\\local\\programs\\python\\python311\\lib\\site-packages\\cloudpickle-1.6.0-py3.11.egg is deprecated. pip 24.3 will enforce this behaviour change. A possible replacement is to use pip for package installation.. Discussion can be found at https://github.com/pypa/pip/issues/12330\n",
      "DEPRECATION: Loading egg at c:\\users\\jackw\\appdata\\local\\programs\\python\\python311\\lib\\site-packages\\gym-0.19.0-py3.11.egg is deprecated. pip 24.3 will enforce this behaviour change. A possible replacement is to use pip for package installation.. Discussion can be found at https://github.com/pypa/pip/issues/12330\n",
      "DEPRECATION: Loading egg at c:\\users\\jackw\\appdata\\local\\programs\\python\\python311\\lib\\site-packages\\luxai2021-0.1.0-py3.11.egg is deprecated. pip 24.3 will enforce this behaviour change. A possible replacement is to use pip for package installation.. Discussion can be found at https://github.com/pypa/pip/issues/12330\n",
      "DEPRECATION: Loading egg at c:\\users\\jackw\\appdata\\local\\programs\\python\\python311\\lib\\site-packages\\stable_baselines3-1.2.1a2-py3.11.egg is deprecated. pip 24.3 will enforce this behaviour change. A possible replacement is to use pip for package installation.. Discussion can be found at https://github.com/pypa/pip/issues/12330\n"
     ]
    }
   ],
   "source": [
    "# Execute this block only if you are using Google Colab.\n",
    "# If you are running the notebook file locally, install pycryptodome yourself but do NOT install the package pycrypto.\n",
    "\n",
    "%pip install pycryptodome"
   ]
  },
  {
   "cell_type": "markdown",
   "metadata": {},
   "source": [
    "## Assignment Overview\n",
    "\n"
   ]
  },
  {
   "cell_type": "markdown",
   "metadata": {},
   "source": [
    "#### Helper functions"
   ]
  },
  {
   "cell_type": "code",
   "execution_count": 4,
   "metadata": {},
   "outputs": [],
   "source": [
    "from Crypto.Util.strxor import strxor\n",
    "from binascii import hexlify, unhexlify\n",
    "\n",
    "import string\n",
    "import os\n",
    "\n",
    "# the one-time pad operation, applied to bytestrings for the message and key\n",
    "def one_time_pad(bytesMessage, bytesKey):\n",
    "    \"\"\" If both the message and key are of type string and have the same length,\n",
    "        then takes their strxor and returns the corresponding ciphertext.\n",
    "    \"\"\"\n",
    "    assert(type(bytesMessage) == bytes)\n",
    "    assert(type(bytesKey)     == bytes)\n",
    "    assert(len(bytesMessage)  == len(bytesKey))\n",
    "    return strxor(bytesMessage, bytesKey)\n",
    "\n",
    "# list of the top 100 words, in all lowercase letters\n",
    "words_lower = [b'a', b'about', b'after', b'all', b'also', b'an', b'and', b'any', b'as',\n",
    "               b'at', b'back', b'be', b'because', b'but', b'by', b'can', b'come',\n",
    "               b'could', b'day', b'do', b'even', b'first', b'for', b'from', b'get',\n",
    "               b'give', b'go', b'good', b'have', b'he', b'her', b'him', b'his', b'how',\n",
    "               b'i', b'if', b'in', b'into', b'it', b'its', b'just', b'know', b'like',\n",
    "               b'look', b'make', b'me', b'most', b'my', b'new', b'no', b'not', b'now',\n",
    "               b'of', b'on', b'one', b'only', b'or', b'other', b'our', b'out', b'over',\n",
    "               b'people', b'say', b'see', b'she', b'so', b'some', b'take', b'than',\n",
    "               b'that', b'the', b'their', b'them', b'then', b'there', b'these', b'they',\n",
    "               b'think', b'this', b'time', b'to', b'two', b'up', b'us', b'use', b'want',\n",
    "               b'way', b'we', b'well', b'what', b'when', b'which', b'who', b'will',\n",
    "               b'with', b'work', b'would', b'year', b'you', b'your']\n",
    "\n",
    "# top 100 words, this time with a capitalized first letter\n",
    "words_upper = [(word.decode('ascii')[0].upper() + word.decode('ascii')[1:]).encode('ascii') for word in words_lower]\n",
    "\n",
    "# subset of the above list that happens to be three-letter words\n",
    "three_letter_words_lower = [b'all', b'and', b'any', b'but', b'can', b'day', b'for',\n",
    "                           b'get', b'her', b'him', b'his', b'how', b'its', b'new',\n",
    "                           b'not', b'now', b'one', b'our', b'out', b'say', b'see',\n",
    "                           b'she', b'the', b'two', b'use', b'way', b'who', b'you']\n",
    "\n",
    "# the capitalized version of the three letter words list\n",
    "three_letter_words_upper = [(word.decode('ascii')[0].upper() + word.decode('ascii')[1:]).encode('ascii') for word in three_letter_words_lower]"
   ]
  },
  {
   "cell_type": "markdown",
   "metadata": {
    "deletable": false,
    "editable": false
   },
   "source": [
    "### Question 1: Two-time pad attack on three-character lowercase ciphertexts (2 points)\n",
    "\n",
    "A one-time pad simply involves the xor of a message with a key to produce a ciphertext: `c = m ^ k`, where `^` denotes the XOR operation. It is essential that the key be as long as the message, or in other words that the key not be repeated for two distinct message blocks.\n",
    "\n",
    "In this problem, you'll see why the key must only be used once. Your goal is to break small two-time-pad examples. The input ciphertexts are created by:\n",
    "\n",
    "- Choosing two plaintexts at random from the list `three_letter_words_lower`. (This list contains the 3-letter words from the set of the 100 most common English words listed on [Wikipedia](https://en.wikipedia.org/wiki/Most_common_words_in_English), in lowercase format.)\n",
    "\n",
    "- Applying the `one_time_pad()` function to both words, using the same 3-letter `bytesKey` (which is *not* provided!).\n",
    "\n",
    "__Your task__: Even though you don't know the secret key, your job is to recover the two inital messages and return them as a set. (Hint: the messages are short enough that a brute-force attack can work here.)\n",
    "\n",
    "- Input: `c1`, `c2` (byte objects): Ciphertexts created by xor-ing a 3-letter word with some random 3-letter key\n",
    "\n",
    "- Return: `{m1, m2}`: A set of two different `three_letter_words` corresponding to the original plaintext messages\n",
    "\n",
    "\n",
    "__Your response:__"
   ]
  },
  {
   "cell_type": "code",
   "execution_count": 9,
   "metadata": {},
   "outputs": [
    {
     "name": "stdout",
     "output_type": "stream",
     "text": [
      "b'\\x1e\\x1b\\x03'\n"
     ]
    }
   ],
   "source": [
    "print(one_time_pad(b'day', b'zzz'))"
   ]
  },
  {
   "cell_type": "code",
   "execution_count": 22,
   "metadata": {
    "tags": []
   },
   "outputs": [],
   "source": [
    "def q1_short_lower_twotimepad(c1, c2) -> set:\n",
    "    \"\"\" Returns the set of possible plaintexts for the two-time pad ciphertexts c1 and c2,\n",
    "        assuming that the plaintexts are short and lowercase.\n",
    "    \"\"\"\n",
    "    output = set()\n",
    "    for word1 in three_letter_words_lower:\n",
    "        for word2 in three_letter_words_lower:\n",
    "            key = one_time_pad(word1, c1)\n",
    "            if one_time_pad(word2, key) == c2:\n",
    "                output.add(word1)\n",
    "                output.add(word2)\n",
    "    return output    \n",
    "\n"
   ]
  },
  {
   "cell_type": "code",
   "execution_count": 23,
   "metadata": {},
   "outputs": [
    {
     "data": {
      "text/plain": [
       "{b'day', b'use'}"
      ]
     },
     "execution_count": 23,
     "metadata": {},
     "output_type": "execute_result"
    }
   ],
   "source": [
    "q1_short_lower_twotimepad(b'\\x1e\\x1b\\x03', b'\\x0f\\t\\x1f')"
   ]
  },
  {
   "cell_type": "markdown",
   "metadata": {
    "deletable": false,
    "editable": false
   },
   "source": [
    "Here is a particular test you can use to check whether your code works. Given the ciphertexts:\n",
    "```\n",
    "c1 = b'\\x1e\\x1b\\x03'\n",
    "c2 = b'\\x0f\\t\\x1f'\n",
    "```\n",
    "\n",
    "the corresponding two plaintexts should be `{b'day', b'use'}`, with the key `k = b'zzz'`.\n",
    "\n",
    "_Points:_ 2"
   ]
  },
  {
   "cell_type": "code",
   "execution_count": 24,
   "metadata": {
    "deletable": false,
    "editable": false
   },
   "outputs": [
    {
     "data": {
      "text/html": [
       "<p><strong><pre style='display: inline;'>q1</pre></strong> passed! 🙌</p>"
      ],
      "text/plain": [
       "q1 results: All test cases passed!"
      ]
     },
     "execution_count": 24,
     "metadata": {},
     "output_type": "execute_result"
    }
   ],
   "source": [
    "grader.check(\"q1\")"
   ]
  },
  {
   "cell_type": "markdown",
   "metadata": {
    "deletable": false,
    "editable": false
   },
   "source": [
    "### Question 2: Two-time pad attack with capitalized and lowercase words (1 point)\n",
    "\n",
    "Now, we make a small change to the previous question. This time, we guarantee that:\n",
    "- the first message `m1` is a capitalized word from the list `three_letter_words_upper` (e.g., the word `New`).\n",
    "- the second message `m2` is a lowercase word from the list `three_letter_words_lower` (e.g., the word `day`).\n",
    "\n",
    "As a result, when you recover the two messages, you should also know their order. So, you can concatenate the two words together and put a space between them (e.g., `New day`). The one downside is that this function might return multiple possible outputs. Consider the following example:"
   ]
  },
  {
   "cell_type": "code",
   "execution_count": null,
   "metadata": {
    "deletable": false,
    "editable": false
   },
   "outputs": [],
   "source": [
    "print(one_time_pad(b'New', b'abc'), one_time_pad(b'day', b'abc'))\n",
    "print(one_time_pad(b'Day', b'kfm'), one_time_pad(b'new', b'kfm'))"
   ]
  },
  {
   "cell_type": "markdown",
   "metadata": {
    "deletable": false,
    "editable": false
   },
   "source": [
    "Hence, from the two ciphertexts `c1 = b'/\\x07\\x14'` and `c2 = b'\\x05\\x03\\x1a'`, it might be the case that the original message was `New day` or `Day new`; you cannot distinguish between the two. Still though, this attack is deemed to be successful if we can narrow down the set of possible messages to just a small number of possible options.\n",
    "\n",
    "__Your task__: Once again, recover the two initial messages. This time, you are allowed to output a set of possible concatenated bytestrings, as long as this set is not too large.\n",
    "\n",
    "- Input: `c1`, `c2` (byte objects): Ciphertexts created by xor-ing a 3-letter word with some random 3-letter key. It is guaranteed that message `m1` has a capitalized first letter, whereas message `m2` does not.\n",
    "\n",
    "- Return: A set of up to 10 possible `m1 + b' ' + m2` combinations of possible two-word plaintext messages. (Note that each individual string should be 7 bytes long, with the space in between the two 3-letter words.)\n",
    "\n",
    "__Your response:__\n",
    "\n",
    "_Points:_ 1"
   ]
  },
  {
   "cell_type": "code",
   "execution_count": 28,
   "metadata": {
    "tags": []
   },
   "outputs": [],
   "source": [
    "def q2_short_twotimepad(c1, c2) -> set:\n",
    "    # TODO\n",
    "    output = set()\n",
    "    for word1 in three_letter_words_upper:\n",
    "        for word2 in three_letter_words_lower:\n",
    "            key = one_time_pad(word1, c1)\n",
    "            if one_time_pad(word2, key) == c2:\n",
    "                output.add(word1 + b' ' + word2)       \n",
    "    return output    "
   ]
  },
  {
   "cell_type": "code",
   "execution_count": 29,
   "metadata": {},
   "outputs": [
    {
     "data": {
      "text/plain": [
       "{b'Day new', b'New day'}"
      ]
     },
     "execution_count": 29,
     "metadata": {},
     "output_type": "execute_result"
    }
   ],
   "source": [
    "q2_short_twotimepad(b'/\\x07\\x14', b'\\x05\\x03\\x1a')"
   ]
  },
  {
   "cell_type": "code",
   "execution_count": 30,
   "metadata": {
    "deletable": false,
    "editable": false
   },
   "outputs": [
    {
     "data": {
      "text/html": [
       "<p><strong><pre style='display: inline;'>q2</pre></strong> passed! 🎉</p>"
      ],
      "text/plain": [
       "q2 results: All test cases passed!"
      ]
     },
     "execution_count": 30,
     "metadata": {},
     "output_type": "execute_result"
    }
   ],
   "source": [
    "grader.check(\"q2\")"
   ]
  },
  {
   "cell_type": "markdown",
   "metadata": {
    "deletable": false,
    "editable": false
   },
   "source": [
    "### Question 3: Two-time pad attack on longer messages (2 points)\n",
    "\n",
    "__Your task:__ In this problem you will again break a cipher when the one-time pad is re-used. This time though, we have encrypted two long bytestrings that contain __multiple words__, with spaces in between the words. You are given two _hex-encoded_ ciphertexts `c1_hex` and `c2_hex` that have the same length as each other (note that the particular length is not fixed). They were formed by applying a “one-time pad” to two different messages _with the same key_. You must find the two corresponding messages `m_1` and `m_2`.\n",
    "\n",
    "_Note: Do not try a brute-force attack on the key! That will quickly turn into \"energy of the sun\" type of work; in particular, you won't be able to complete the homework assignment by the deadline._\n",
    "\n",
    "To make your search for the plaintext messages simpler, let me lay out a few ground rules:\n",
    "\n",
    "1. Each message consists of English words in ASCII separated by spaces. No punctuation appears in the messages. \n",
    "\n",
    "2. Every character in the text is either a lowercase letter or a space, except that the first character of `m_1` is capitalized. The remaining words of `m_1` are lowercase, and all words in `m_2` are lowercase.\n",
    "\n",
    "3. The second message m_2 starts with a space.\n",
    "\n",
    "4. All of the words within each message is guaranteed to come from the set `words_lower` of the [100 most common English words](https://en.wikipedia.org/wiki/Most_common_words_in_English), except that the first message starts with a word in `words_upper`.\n",
    "\n",
    "There are two ways that you can solve this question:\n",
    "\n",
    "1. Write code yourself.\n",
    "2. Use the interactive two-time pad cracking tool at https://www.tausquared.net/pages/ctf/twotimepad.html\n",
    "\n",
    "__Test vector:__ To help you understand the question, here is a test vector:\n",
    "\n",
    "```\n",
    "q3_fulltwo_time_pad(b'3e21aa44d5319f099129e1859562eaeb26f558846e7dccbef7dd1a46e94d', b'5033b844dc318d4cd732fbc0d463e9b822b05892226c84bfeb8a4e4ce546')\n",
    "```\n",
    "\n",
    "should return `{'New day for all people how can we make the most of this time'}`.  In this test vector, note that:\n",
    "- message 1 is 'New day for all people how can',\n",
    "- message 2 is ' we make the most of this time',\n",
    "- each message is 30 bytes long, and\n",
    "- the first message starts with an uppercase letter, and the second message starts with a space.\n",
    "\n",
    "Before writing any code, try using the interactive two-time pad cracking tool to find this message. Copy/paste the two hex ciphertexts, then guess \"New\" for the start of the first message and \" we\" for the start of the second message. Note how the cracking tool shows that they match. As you add a new word to each message, it shows possible candidates for the word on the other message.\n",
    "\n",
    "__Your response:__"
   ]
  },
  {
   "cell_type": "code",
   "execution_count": null,
   "metadata": {
    "tags": []
   },
   "outputs": [],
   "source": [
    "def q3_full_two_time_pad(c1_hex, c2_hex) -> set:\n",
    "    ''' Input: Two hex-encoded ciphertexts c1_hex and c2_hex\n",
    "        Return: Up to 100 possible m1 + m2 combinations of possible plaintext messages.\n",
    "                Since m2 already starts with a space in this question,\n",
    "                do *not* add an additional space in between m1 and m2.\n",
    "    '''\n",
    "\n",
    "    c1 = unhexlify(c1_hex)\n",
    "    c2 = unhexlify(c2_hex)\n",
    "\n",
    "    # TODO\n",
    "    return (b'New day for all people how can we make the most of this time')"
   ]
  },
  {
   "cell_type": "markdown",
   "metadata": {
    "deletable": false,
    "editable": false
   },
   "source": [
    "You can try to test out your code on the test vector that we provided above."
   ]
  },
  {
   "cell_type": "code",
   "execution_count": null,
   "metadata": {
    "deletable": false,
    "editable": false
   },
   "outputs": [],
   "source": [
    "def test3_0():\n",
    "    answerstring = b'New day for all people how can we make the most of this time'\n",
    "    return answerstring in q3_full_two_time_pad(b'3e21aa44d5319f099129e1859562eaeb26f558846e7dccbef7dd1a46e94d',\n",
    "                                                b'5033b844dc318d4cd732fbc0d463e9b822b05892226c84bfeb8a4e4ce546')\n",
    "test3_0()"
   ]
  },
  {
   "cell_type": "markdown",
   "metadata": {
    "deletable": false,
    "editable": false
   },
   "source": [
    "We provide two tests for this question, each one of which is worth 1 point.\n",
    "\n",
    "- You will earn one point for solving the following two-time-pad challenge.\n",
    "    - `m1 = b'5a2e8da8d55eb6b738139bda26471b26f5fa4f'`\n",
    "    - `m2 = b'3b3196b8871db6b574408ad76f595e72f2f85d'`\n",
    "- You will earn another point if your code works on arbitrary ciphertext pairs.\n",
    "\n",
    "You can hardcode the answer in the function `q3_full_two_time_pad` if you want to receive only one point for this question. Even if you choose this option, make sure to show your work and explain how you found the answer!\n",
    "\n",
    "_Points:_ 2"
   ]
  },
  {
   "cell_type": "code",
   "execution_count": null,
   "metadata": {
    "deletable": false,
    "editable": false
   },
   "outputs": [],
   "source": [
    "grader.check(\"q3\")"
   ]
  },
  {
   "cell_type": "markdown",
   "metadata": {},
   "source": [
    "## Submitting the Assignment\n",
    "\n",
    "Please follow these instructions to complete the assignment and submit it for credit.\n",
    "\n",
    "**Documenting collaborators, sources, and AI tools:** In accordance with the collaboration policy, use the space below to report if you used any resources to complete this homework assignment, aside from the lecture notes and the course textbooks/videos. Specifically, please report:\n",
    "\n",
    "1. Names of all classmates you worked with, and a short description of the work that you performed together.\n",
    "2. All written materials that you used, such as books or websites (besides the lecture notes or textbooks). Please include links to any web-based resources, or citations to any physical works.\n",
    "3. All code that you used from other sources. In particular, if you used an AI tool, then you must include the entire exchange with the AI tool, as per the [CDS Generative AI Assistance Policy](https://www.bu.edu/cds-faculty/culture-community/gaia-policy/).\n",
    "\n",
    "Remember that if we discover any undocumented collaborators, sources, or AI tools then this is grounds for a grade penalty and referral to BU's Academic Conduct Committee (as described in the syllabus)."
   ]
  },
  {
   "cell_type": "markdown",
   "metadata": {},
   "source": [
    "_Your response:_\n",
    "\n",
    "1.\n",
    "\n",
    "2.\n",
    "\n",
    "3."
   ]
  },
  {
   "cell_type": "markdown",
   "metadata": {},
   "source": [
    "**Sending to Gradescope:** After completing the assignment:\n",
    "- if you did the assignment on Colab, download it in `.ipynb` format.\n",
    "- if you did the assignment locally on your machine, all you need to do is to find it in your directory.\n",
    "\n",
    "Then, submit only the `.ipynb` file to this week's programming assignment on Gradescope. It may take a few seconds or a minute for the auto-grading system to check your work.\n",
    "\n",
    "Remember that you can submit as many times as you want until the deadline for the assignment; only your last score counts."
   ]
  },
  {
   "cell_type": "markdown",
   "metadata": {
    "deletable": false,
    "editable": false
   },
   "source": [
    "## Submission\n",
    "\n",
    "Make sure you have run all cells in your notebook in order before running the cell below, so that all images/graphs appear in the output. The cell below will generate a zip file for you to submit. **Please save before exporting!**\n",
    "\n",
    "Submit your assignment on Gradescope once you have passed enough tests to receive at least 4 of the 5 available points."
   ]
  },
  {
   "cell_type": "code",
   "execution_count": null,
   "metadata": {
    "deletable": false,
    "editable": false
   },
   "outputs": [],
   "source": [
    "# Save your notebook first, then run this cell to export your submission.\n",
    "grader.export(run_tests=True)"
   ]
  },
  {
   "cell_type": "markdown",
   "metadata": {},
   "source": [
    " "
   ]
  }
 ],
 "metadata": {
  "kernelspec": {
   "display_name": "Python 3 (ipykernel)",
   "language": "python",
   "name": "python3"
  },
  "language_info": {
   "codemirror_mode": {
    "name": "ipython",
    "version": 3
   },
   "file_extension": ".py",
   "mimetype": "text/x-python",
   "name": "python",
   "nbconvert_exporter": "python",
   "pygments_lexer": "ipython3",
   "version": "3.11.0"
  },
  "otter": {
   "OK_FORMAT": true,
   "tests": {
    "q1": {
     "name": "q1",
     "points": 2,
     "suites": [
      {
       "cases": [
        {
         "code": ">>> def test1_1():\n...     return q1_short_lower_twotimepad(b'\\x1e\\x1b\\x03', b'\\x0f\\t\\x1f') == {b'day', b'use'}\n>>> test1_1()\nTrue",
         "hidden": false,
         "locked": false
        },
        {
         "code": ">>> from os import urandom\n>>> from random import sample\n>>> \n>>> def test1_2():\n...     for i in range(2000):\n...         [index1, index2] = sample(range(len(three_letter_words_lower)), 2)\n...         word1 = three_letter_words_lower[index1]\n...         word2 = three_letter_words_lower[index2]\n...         bytesKey = urandom(3)\n...         if q1_short_lower_twotimepad(strxor(word1, bytesKey), strxor(word2, bytesKey)) != {word1, word2}:\n...             print('When testing on the ciphertexts', strxor(word1, bytesKey), 'and', strxor(word2, bytesKey), 'failed to find the message pair:', {word1, word2})\n...             return False\n...     return True\n>>> test1_2()\nTrue",
         "hidden": false,
         "locked": false
        }
       ],
       "scored": true,
       "setup": "",
       "teardown": "",
       "type": "doctest"
      }
     ]
    },
    "q2": {
     "name": "q2",
     "points": 1,
     "suites": [
      {
       "cases": [
        {
         "code": ">>> def test2_1():\n...     return q2_short_twotimepad(b'/\\x07\\x14', b'\\x05\\x03\\x1a') == {b'Day new', b'New day'}\n>>> test2_1()\nTrue",
         "hidden": false,
         "locked": false
        },
        {
         "code": ">>> from os import urandom\n>>> from random import sample\n>>> \n>>> def test2_2():\n...     for i in range(600):\n...         [index1, index2] = sample(range(len(three_letter_words_lower)), 2)\n...         word1 = three_letter_words_upper[index1]\n...         word2 = three_letter_words_lower[index2]\n...         bytesKey = urandom(3)\n...         theset = q2_short_twotimepad(strxor(word1, bytesKey), strxor(word2, bytesKey))\n...         if word1 + b' ' + word2 not in theset or len(theset) > 10:\n...             print('When testing on the ciphertexts', strxor(word1, bytesKey), 'and', strxor(word2, bytesKey), 'failed to find the plaintext message:', word1 + b' ' + word2)\n...             return False\n...     return True\n>>> test2_2()\nTrue",
         "hidden": false,
         "locked": false
        }
       ],
       "scored": true,
       "setup": "",
       "teardown": "",
       "type": "doctest"
      }
     ]
    },
    "q3": {
     "name": "q3",
     "points": 2,
     "suites": [
      {
       "cases": [
        {
         "code": ">>> from Crypto.Hash import SHA256\n>>> \n>>> def test3_1():\n...     answerhash = 'a391caeff746e544a44b66eefb615e8bad12c3a12642bcec0527237ba00ad904'\n...     for answerstring in q3_full_two_time_pad(b'5a2e8da8d55eb6b738139bda26471b26f5fa4f', b'3b3196b8871db6b574408ad76f595e72f2f85d'):\n...         h = SHA256.new(answerstring)\n...         if h.hexdigest() == answerhash:\n...             return True\n...     return False\n>>> test3_1()\nTrue",
         "hidden": false,
         "locked": false
        },
        {
         "code": ">>> from binascii import hexlify\n>>> import random\n>>> from os import urandom\n>>> \n>>> def one_time_pad(bytesMessage, bytesKey):\n...     \"\"\" If both the message and key are of type string and have the same length,\n...         then takes their strxor and returns the corresponding ciphertext.\n...     \"\"\"\n...     assert type(bytesMessage) == bytes\n...     assert type(bytesKey) == bytes\n...     assert len(bytesMessage) == len(bytesKey)\n...     return strxor(bytesMessage, bytesKey)\n>>> \n>>> def generate_n_char_sentence(n, words, isBlank=False):\n...     if isBlank:\n...         cap = n - 1\n...     else:\n...         cap = n\n...     while True:\n...         sentence = ''\n...         while len(sentence) < cap:\n...             word = random.choice(words)\n...             if len(sentence) + len(word) + (1 if sentence else 0) <= cap:\n...                 sentence += (' ' if sentence else '') + word\n...             else:\n...                 break\n...         if len(sentence) == cap:\n...             if isBlank:\n...                 return ' ' + sentence\n...             return sentence\n>>> \n>>> def test3_2():\n...     words = 'a about after all also an and any as at back be because but by can\\n    come could day do even first for from get give go good have he her him his how\\n    i if in into it its just know like look make me most my new no not now of on\\n    one only or other our out over people say see she so some take than that the\\n    their them then there these they think this time to two up us use want way we\\n    well what when which who will with work would year you your'.split()\n...     cnt = 0\n...     total_length = 16\n...     total_count = 10\n...     for i in range(total_count):\n...         m1 = generate_n_char_sentence(total_length, words, False).capitalize().encode('ascii')\n...         m2 = generate_n_char_sentence(total_length, words, True).encode('ascii')\n...         tempkey = urandom(total_length)\n...         c1_hex = hexlify(one_time_pad(m1, tempkey))\n...         c2_hex = hexlify(one_time_pad(m2, tempkey))\n...         theset = q3_full_two_time_pad(c1_hex, c2_hex)\n...         if m1 + m2 in theset and len(theset) <= 100:\n...             cnt += 1\n...         else:\n...             print('Failed test on ciphertexts:', c1_hex, 'and', c2_hex, 'expected to see m1 =', m1, 'and m2 =', m2)\n...     return cnt / total_count >= 0.8\n>>> test3_2()\nTrue",
         "hidden": false,
         "locked": false
        }
       ],
       "scored": true,
       "setup": "",
       "teardown": "",
       "type": "doctest"
      }
     ]
    }
   }
  }
 },
 "nbformat": 4,
 "nbformat_minor": 2
}
