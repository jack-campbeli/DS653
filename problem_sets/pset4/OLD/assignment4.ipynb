{
 "cells": [
  {
   "cell_type": "code",
   "execution_count": 2,
   "metadata": {
    "deletable": false,
    "editable": false
   },
   "outputs": [],
   "source": [
    "# Initialize Otter\n",
    "import otter\n",
    "grader = otter.Notebook(\"assignment4.ipynb\")"
   ]
  },
  {
   "cell_type": "markdown",
   "metadata": {},
   "source": [
    "# DS 453 / 653: Programming Assignment 4\n",
    "\n",
    "**Due date**: Thursday, Feburary 15 at 8pm on [Gradescope](https://www.gradescope.com/courses/710247).\n",
    "\n",
    "_You must follow the Academic Code of Conduct and Collaboration Policy stated in the course syllabus at all times while working on this assignment._\n",
    "\n",
    "This assignment contains 2 questions worth a total of 5 points. You must receive at least 4 points to pass the assignment.\n",
    "\n",
    "To begin, please execute the code block below:"
   ]
  },
  {
   "cell_type": "markdown",
   "metadata": {},
   "source": [
    "## Assignment Overview\n",
    "\n",
    "The goal of this assignment is to continue our investigation into the structure of a blockchain. We'll continue to use the toy blockchain from Programming Assignment 3.\n",
    "\n",
    "[Everything else in this assignment overview is identical to what we wrote in Assignment 3; it is here to remind you of how the toy blockchain works, and so that you execute the appropriate Python commands again.]\n",
    "\n",
    "### Python classes\n",
    "Our toy blockchain is written as Python code, which we provide below. We separate the blockchain into four classes:\n",
    "- The `TransactionPayload` class holds the relevant information for a single payment: the sender and receiver (identified by their public keys) and the amount of money being transferred.\n",
    "- The `Transaction` class contains the payload together with a digital signature made by the sender.\n",
    "- The `Block` class contains the block \"height\" (which is just a 0-indexed counter), a set of new transactions, and a pointer to the previous block in the chain. Additionally, the block contains a `nonce` that can be chosen arbitrarily by the block's miner in order to satisfy the difficulty rule.\n",
    "\n",
    "Finally, the `blockchain` object is a list of blocks.\n",
    "\n",
    "Throughout this assignment, the difficulty rule is that:\n",
    "> _The hash of a valid block must begin with 8 bits (one byte) of all 0s_.\n",
    "\n",
    "To instantiate these classes, execute the Python code below."
   ]
  },
  {
   "cell_type": "code",
   "execution_count": 3,
   "metadata": {},
   "outputs": [],
   "source": [
    "import otter\n",
    "grader = otter.Notebook()"
   ]
  },
  {
   "cell_type": "code",
   "execution_count": 4,
   "metadata": {},
   "outputs": [],
   "source": [
    "# Execute this block only if you are using Google Colab.\n",
    "# If you are running the notebook file locally, install pycryptodome yourself but do NOT install the package pycrypto.\n",
    "\n",
    "# %pip install pycryptodome"
   ]
  },
  {
   "cell_type": "code",
   "execution_count": 5,
   "metadata": {},
   "outputs": [],
   "source": [
    "## Execute, but DO NOT MODIFY this code block. ##\n",
    "## It contains a Python class corresponding to a toy blockchain.\n",
    "## Please read the code to understand how the toy blockchain works.\n",
    "\n",
    "import json\n",
    "from Crypto.Hash import SHA256\n",
    "from Crypto.PublicKey import ECC\n",
    "from Crypto.Signature import DSS\n",
    "from binascii import hexlify, unhexlify\n",
    "\n",
    "class Transaction():\n",
    "  def __init__(self, transaction_payload, signature):\n",
    "    self.transaction_payload = transaction_payload\n",
    "    self.signature = signature\n",
    "\n",
    "  def json_encode(self):\n",
    "    transaction_json = {\"transaction\": json.loads(self.transaction_payload.json_encode()), \"signature\":self.signature}\n",
    "    return json.dumps(transaction_json)\n",
    "\n",
    "class TransactionPayload():\n",
    "  def __init__(self, sender_public_key, receiver_public_key, amount):\n",
    "    self.sender_public_key = sender_public_key\n",
    "    self.receiver_public_key = receiver_public_key\n",
    "    self.amount = amount\n",
    "\n",
    "  def json_encode(self):\n",
    "    return json.dumps(self.__dict__, sort_keys=True)\n",
    "\n",
    "  def encode(self):\n",
    "    # encodes the transaction as bytes\n",
    "    return self.json_encode().encode('ascii')\n",
    "\n",
    "  def hash(self):\n",
    "    # returns the hash of the transaction as bytes\n",
    "    return SHA256.new(self.encode())\n",
    "\n",
    "class Block():\n",
    "  def __init__(self, height, transactions, previous_hash, nonce=0):\n",
    "    self.height = height\n",
    "    self.transactions = transactions\n",
    "    self.previous_hash = previous_hash\n",
    "    self.nonce = nonce\n",
    "\n",
    "  def json_encode(self):\n",
    "    json_encoding = {'height': self.height,\n",
    "            'transactions': [json.loads(transaction.json_encode()) for transaction in self.transactions],\n",
    "            'previous_hash': self.previous_hash, # in hexstring\n",
    "            'nonce': self.nonce\n",
    "    }\n",
    "    return json.dumps(json_encoding)\n",
    "\n",
    "  def encode(self):\n",
    "    return self.json_encode().encode('ascii')\n",
    "\n",
    "  def hash(self):\n",
    "    return SHA256.new(self.encode()).hexdigest()"
   ]
  },
  {
   "cell_type": "markdown",
   "metadata": {},
   "source": [
    "### Participants in the blockchain\n",
    "\n",
    "There are five participants who use this blockchain. We label these participants as players A, B, C, D, and E. We will only look at a few blocks of this blockchain, which operate as follows:\n",
    "\n",
    "- Before the start of the blockchain, we assume that players A and C start with 1 coin. The other players have no money at the start.\n",
    "- The first block contains two transactions: A pays 1 coin to B, and C pays 1 coin to D.\n",
    "- The second block contains a single transaction: D pays 1 coin to A\n",
    "\n",
    "After these two blocks, players A and B should have 1 coin each and everyone else should have nothing.\n",
    "\n",
    "Execute the Python code below to instantiate this blockchain."
   ]
  },
  {
   "cell_type": "code",
   "execution_count": 6,
   "metadata": {},
   "outputs": [
    {
     "name": "stdout",
     "output_type": "stream",
     "text": [
      "{\"height\": 0, \"transactions\": [{\"transaction\": {\"amount\": 1, \"receiver_public_key\": \"04be4a2555cc8ed29989eeddde3d8e4d41458d02dce047aac2e6af2d58688c5beae7163eb157d1fd3c3d282abab7172b0f0d63274ebe721d31c5d72a83741df170\", \"sender_public_key\": \"044d4385fe08e0eb94c524bdd3682c9c5ae358f52402df02418d0ba6cf6889289a27bd56a666df7dc595c98da1f22958009ae17c52fd290185d2e2bf11140a0a5e\"}, \"signature\": \"edd6bb60e8486f9747f911a6d7340c275d5a417c3823952715a18a64d3577325413cf544e8f48e6c30a312649200c57b72d7eaa4721abf376dbd0dc799db6c3a\"}, {\"transaction\": {\"amount\": 1, \"receiver_public_key\": \"04abc5bd2786ea5144122ccf43b89a557e1d36e2773c2b8986d9819a22c2e6540b3d5da692504ccc29fbf774435312afdda2a360d5160329cb326f6d47db29f50b\", \"sender_public_key\": \"04a3fc575afc4ad2ca2cbeed50b52fedf049d317b790aa33e7f8182aec028453082d4c4ffd4c99c7e6d11c134e81020c57ca0fbf0bf3406bf4457dc72d8c994a65\"}, \"signature\": \"33bcaaa920207125ec72ea7f9e5fbddb993479dbe7122c6dfcf0a96f2e646dd90ff73c90c784f473480e32fd2fb68735af86458bc0434e5958f025cc9e0ddd59\"}], \"previous_hash\": \"0000000000000000000000000000000000000000000000000000000000000000\", \"nonce\": 7}\n",
      "{\"height\": 1, \"transactions\": [{\"transaction\": {\"amount\": 1, \"receiver_public_key\": \"044d4385fe08e0eb94c524bdd3682c9c5ae358f52402df02418d0ba6cf6889289a27bd56a666df7dc595c98da1f22958009ae17c52fd290185d2e2bf11140a0a5e\", \"sender_public_key\": \"04abc5bd2786ea5144122ccf43b89a557e1d36e2773c2b8986d9819a22c2e6540b3d5da692504ccc29fbf774435312afdda2a360d5160329cb326f6d47db29f50b\"}, \"signature\": \"886de552f43010b2a848f660b066102e680a4c6b763032c98c53e6f86c5d5638a9dee5e41f311e4956cd416a51850afa28bc4b9575cbf9cbf1940fae84b1d166\"}], \"previous_hash\": \"00fd71161f8b5244d0641d83ccaedc2f0b7bed9d3f0c625fc817218660c4369a\", \"nonce\": 143}\n"
     ]
    }
   ],
   "source": [
    "## Execute, but DO NOT MODIFY this code block. ##\n",
    "## This code creates a concrete blockchain containing the transactions and blocks described above.\n",
    "## It also contains all 5 players' public keys, and the corresponding secret key *only* for Player A.\n",
    "\n",
    "# Player A's secret key\n",
    "secret_key = ECC.generate(curve='P-256', randfunc=(lambda x: '0'.encode('ascii') * x))\n",
    "# Public keys for all five players\n",
    "# Player A's public key is located at index 0, player B's public key is at index 1, and so on\n",
    "public_keys = ['044d4385fe08e0eb94c524bdd3682c9c5ae358f52402df02418d0ba6cf6889289a27bd56a666df7dc595c98da1f22958009ae17c52fd290185d2e2bf11140a0a5e', '04be4a2555cc8ed29989eeddde3d8e4d41458d02dce047aac2e6af2d58688c5beae7163eb157d1fd3c3d282abab7172b0f0d63274ebe721d31c5d72a83741df170', '04a3fc575afc4ad2ca2cbeed50b52fedf049d317b790aa33e7f8182aec028453082d4c4ffd4c99c7e6d11c134e81020c57ca0fbf0bf3406bf4457dc72d8c994a65', '04abc5bd2786ea5144122ccf43b89a557e1d36e2773c2b8986d9819a22c2e6540b3d5da692504ccc29fbf774435312afdda2a360d5160329cb326f6d47db29f50b', '046a921bed68e07e66f38a5137b3784372cfd4507e6451e1dfe3760f08649750e7891cd30339b730c0280738c60233d3c99eb78454340ff363cafbf1e6f0cfce5e']\n",
    "\n",
    "blockchain = []\n",
    "\n",
    "# Remember: we assume that A and C magically begin the blockchain with 1 coin.\n",
    "# This is because our toy blockchain doesn't have mining rewards,\n",
    "# so we make this assumption to start the chain with some money.\n",
    "\n",
    "# Here are the transactions in each block\n",
    "def gen_block_0():\n",
    "  # This block sends 1 coin from public key A to public key B\n",
    "  t1 = TransactionPayload(public_keys[0], public_keys[1], 1)\n",
    "  # In this toy blockchain, all signatures are stored in hex format and have a type of string\n",
    "  t1_signature = \"edd6bb60e8486f9747f911a6d7340c275d5a417c3823952715a18a64d3577325413cf544e8f48e6c30a312649200c57b72d7eaa4721abf376dbd0dc799db6c3a\"\n",
    "  # A transaction includes the payload and its corresponding signature\n",
    "  t1_signed = Transaction(t1, t1_signature)\n",
    "\n",
    "  # C -> D\n",
    "  t2 = TransactionPayload(public_keys[2], public_keys[3], 1)\n",
    "  t2_signature = \"33bcaaa920207125ec72ea7f9e5fbddb993479dbe7122c6dfcf0a96f2e646dd90ff73c90c784f473480e32fd2fb68735af86458bc0434e5958f025cc9e0ddd59\"\n",
    "  t2_signed = Transaction(t2, t2_signature)\n",
    "\n",
    "  # block number 0\n",
    "  previous_hash = \"0000000000000000000000000000000000000000000000000000000000000000\"\n",
    "  b0 = Block(0, [t1_signed, t2_signed], previous_hash, 7)\n",
    "  return b0\n",
    "\n",
    "def gen_block_1():\n",
    "  # D -> A\n",
    "  t3 = TransactionPayload(public_keys[3], public_keys[0], 1)\n",
    "  t3_signature = \"886de552f43010b2a848f660b066102e680a4c6b763032c98c53e6f86c5d5638a9dee5e41f311e4956cd416a51850afa28bc4b9575cbf9cbf1940fae84b1d166\"\n",
    "  t3_signed = Transaction(t3, t3_signature)\n",
    "\n",
    "  # block number 1\n",
    "  previous_hash = \"00fd71161f8b5244d0641d83ccaedc2f0b7bed9d3f0c625fc817218660c4369a\"\n",
    "  b1 = Block(1, [t3_signed], previous_hash, 143)\n",
    "  return b1\n",
    "\n",
    "def pretty_print(blockchain):\n",
    "  [print(block.json_encode()) for block in blockchain]\n",
    "\n",
    "blockchain = [gen_block_0(), gen_block_1()]\n",
    "pretty_print(blockchain)\n"
   ]
  },
  {
   "cell_type": "markdown",
   "metadata": {},
   "source": [
    "This `blockchain` turns out to be valid because:\n",
    "1. All signatures are correct,\n",
    "2. Everyone has enough money in their account at the moment they post a transaction, \n",
    "3. Every block points to the previous block (and by convention, the initial block -- called the \"genesis\" block -- has a hash of all-0s), and\n",
    "4. Every block has a `nonce` that is chosen to satisfy the difficulty rule.\n",
    "\n",
    "If we break any of the four rules, then the blockchain becomes invalid. Here are some examples of invalid blockchains."
   ]
  },
  {
   "cell_type": "code",
   "execution_count": 7,
   "metadata": {},
   "outputs": [],
   "source": [
    "# # An invalid chain because a digital signature is incorrect\n",
    "# # (specifically, we're altering the signature of the first A -> B transaction)\n",
    "# chain_invalid_sig = blockchain\n",
    "# chain_invalid_sig[0].transactions[0].signature = \"00000000000000000000000000000000000000000000000000000000000000000000000000000000000000000000000000000000000000000000000000000000\"\n",
    "\n",
    "# # An invalid chain because someone is spending money they don't have\n",
    "# # (specifically, we're moving the D -> A transaction into the first block)\n",
    "# chain_invalid_balance = blockchain\n",
    "# chain_invalid_sig[0].transactions[0].transaction_payload = TransactionPayload(public_keys[3], public_keys[0], 1)\n",
    "# chain_invalid_sig[0].transactions[0].signature = \"886de552f43010b2a848f660b066102e680a4c6b763032c98c53e6f86c5d5638a9dee5e41f311e4956cd416a51850afa28bc4b9575cbf9cbf1940fae84b1d166\"\n",
    "\n",
    "# # An invalid chain with the wrong hash of the previous block\n",
    "# chain_invalid_hash = blockchain\n",
    "# chain_invalid_hash[1].previous_hash = '2222222222222222222222222222222222222222222222222222222222222222'\n",
    "\n",
    "# # An invalid chain that doesn't satisfy the difficulty rule\n",
    "# chain_invalid_difficulty = blockchain\n",
    "# chain_invalid_difficulty[1].nonce = 142"
   ]
  },
  {
   "cell_type": "markdown",
   "metadata": {},
   "source": [
    "## Assignment Questions\n",
    "\n",
    "In this week's assignment, your objective is to take on the role of a *miner* and to create new blocks in the toy blockchain. First, you will act as an honest miner and produce a new block legitimately, i.e., extending the end of the `blockchain` that you already have. Second, you will act as a malicious miner and produce a new block illegitimately, by overwriting the prior state on the blockchain. The difficulty level of the toy blockchain is purposely tuned down so that this is possible to do."
   ]
  },
  {
   "cell_type": "markdown",
   "metadata": {
    "deletable": false,
    "editable": false
   },
   "source": [
    "**Question 1 (Honest mining):** Mine a third block as player A. Your new block should include a single transaction: as player A, transfer your one and only coin to player E.\n",
    "\n",
    "You may use the functions `isValidTransaction`, `verifyBlock`, and `findBalance` from Programming Assignment 3 as helper functions within this code, if you wish."
   ]
  },
  {
   "cell_type": "markdown",
   "metadata": {
    "deletable": false,
    "editable": false
   },
   "source": [
    "To start, please write the method `computeSignature` to generate the signature, as player A, corresponding to a transaction payload. This function should return a signature in hexadecimal string format. Remember that you will need to use player A's secret key to produce a signature.\n",
    "\n",
    "In this assignment, you must use a digital signature scheme called ECDSA, which stands for Elliptic Curve Digital Signature Algorithm. We discussed this algorithm in Lecture 4. You should review the PyCrypto documentation at https://pycryptodome.readthedocs.io/en/latest/src/signature/dsa.html?highlight=ecdsa to see a working example.\n",
    "\n",
    "_Points:_ 2"
   ]
  },
  {
   "cell_type": "markdown",
   "metadata": {},
   "source": [
    "## Helper Functions"
   ]
  },
  {
   "cell_type": "code",
   "execution_count": 8,
   "metadata": {},
   "outputs": [],
   "source": [
    "from typing import Union\n",
    "\n",
    "def isValidTransaction(transaction: Transaction) -> bool:\n",
    "    # Todo: write here!\n",
    "    # return type: bool\n",
    "\n",
    "    key = ECC.import_key(unhexlify(transaction.transaction_payload.sender_public_key), curve_name='P-256')\n",
    "    h = transaction.transaction_payload.hash()\n",
    "    verifier = DSS.new(key, 'fips-186-3')\n",
    "\n",
    "    try:\n",
    "        verifier.verify(h, unhexlify(transaction.signature))\n",
    "        return True\n",
    "    except ValueError:\n",
    "        return False\n",
    "\n",
    "def verifyBlock(block: Block) -> bool:\n",
    "    # Todo: write here!\n",
    "    # return type: bool\n",
    "\n",
    "    # diffulty check\n",
    "    if block.hash()[:2] != \"00\":\n",
    "        return False\n",
    "\n",
    "    # transaction check\n",
    "    for transaction in block.transactions:\n",
    "        if not isValidTransaction(transaction):\n",
    "            return False\n",
    "        \n",
    "    return True\n",
    "\n",
    "def findBalance(blockchain: list[Block], players_balance: list[int]) -> Union[list[int], bool]:\n",
    "    # input: a blockchain and an integer balance\n",
    "    # output: either the new list of int, or the bool `False`\n",
    "    \n",
    "    for block in blockchain:\n",
    "        if not verifyBlock(block):\n",
    "            return False\n",
    "\n",
    "        for transaction in block.transactions:\n",
    "            sender_index = public_keys.index(transaction.transaction_payload.sender_public_key)\n",
    "            receiver_index = public_keys.index(transaction.transaction_payload.receiver_public_key)\n",
    "            amount = transaction.transaction_payload.amount\n",
    "\n",
    "            if players_balance[sender_index] < amount:\n",
    "                return False\n",
    "\n",
    "            players_balance[sender_index] -= amount\n",
    "            players_balance[receiver_index] += amount\n",
    "    \n",
    "    return players_balance"
   ]
  },
  {
   "cell_type": "code",
   "execution_count": 20,
   "metadata": {
    "tags": []
   },
   "outputs": [],
   "source": [
    "def computeSignature(transaction_payload: TransactionPayload):\n",
    "    # Todo: write here!\n",
    "    # return type: hexadecimal string corresponding to a signature\n",
    "    \n",
    "    message = transaction_payload.encode()\n",
    "    h = SHA256.new(message)\n",
    "    signer = DSS.new(secret_key, 'fips-186-3')\n",
    "    signature = signer.sign(h)\n",
    "\n",
    "    return hexlify(signature).decode('ascii')"
   ]
  },
  {
   "cell_type": "code",
   "execution_count": 21,
   "metadata": {},
   "outputs": [
    {
     "name": "stdout",
     "output_type": "stream",
     "text": [
      "<class 'str'>\n"
     ]
    },
    {
     "data": {
      "text/plain": [
       "'9afe69ff43e7603dfd6ce85db441890e520abfc1ca4cf367a4d5c33a9c4d4a019cae7bd7ade04af912fb5144827c1ea12a3dc116957a2d2d8f8ed3d4601f7511'"
      ]
     },
     "execution_count": 21,
     "metadata": {},
     "output_type": "execute_result"
    },
    {
     "ename": "",
     "evalue": "",
     "output_type": "error",
     "traceback": [
      "\u001b[1;31mThe Kernel crashed while executing code in the current cell or a previous cell. \n",
      "\u001b[1;31mPlease review the code in the cell(s) to identify a possible cause of the failure. \n",
      "\u001b[1;31mClick <a href='https://aka.ms/vscodeJupyterKernelCrash'>here</a> for more info. \n",
      "\u001b[1;31mView Jupyter <a href='command:jupyter.viewOutput'>log</a> for further details."
     ]
    }
   ],
   "source": [
    "computeSignature(blockchain[0].transactions[0].transaction_payload)"
   ]
  },
  {
   "cell_type": "code",
   "execution_count": null,
   "metadata": {
    "tags": []
   },
   "outputs": [],
   "source": [
    "# Next, write the method `mineBlock` to create a new block when given any set of transactions. \n",
    "# This function should return a valid Block object.\n",
    "def mineBlock(blockchain: list[Block], transactions):\n",
    "    # Todo: write here!\n",
    "    # return type: a Block object\n",
    "\n",
    "    # create a new block\n",
    "    block = Block(\n",
    "        len(blockchain), \n",
    "        transactions, \n",
    "        blockchain[-1].hash(), \n",
    "        0)\n",
    "    \n",
    "    # mine the block\n",
    "    while not verifyBlock(block):\n",
    "        block.nonce += 1\n",
    "\n",
    "    return block"
   ]
  },
  {
   "cell_type": "code",
   "execution_count": null,
   "metadata": {
    "tags": []
   },
   "outputs": [],
   "source": [
    "# TODO: Finally, you should write a function called `mineThirdBlock` to first generate a new valid \n",
    "# block with required transaction using the `computeSignature` and `mineBlock` functions you wrote above, \n",
    "# and append it to the existing two-block `blockchain`. \n",
    "# The function should take the original blockchain as input and return the appended blockchain.\n",
    "def mineThirdBlock(blockchain: list[Block]) -> list[Block]:\n",
    "    \n",
    "    payload = TransactionPayload(public_keys[0], public_keys[4], 1),\n",
    "\n",
    "    new_transaction = Transaction(\n",
    "        payload,\n",
    "        computeSignature(payload)\n",
    "    )\n",
    "\n",
    "    new_block = mineBlock(blockchain, [new_transaction])\n",
    "    blockchain.append(new_block)\n",
    "\n",
    "    return blockchain"
   ]
  },
  {
   "cell_type": "markdown",
   "metadata": {
    "deletable": false,
    "editable": false
   },
   "source": [
    "**Question 2 (Dishonest mining):** Your objective in this task is to do something malicious: execute a double-spend attack! As player A, you should generate a blockchain that includes a transaction in which you pay **two coins** to player E.\n",
    "\n",
    "But player A doesn't have 2 coins! So in order to make this attack work, you need to rewrite the state of the blockchain so that player A never pays 1 coin to player B (but still has 1 coin from the start and receives 1 coin from player D, thereby resulting in two coins that can be paid to player E).\n",
    "\n",
    "Below, you must write code that will produce a new blockchain. Just like before, a blockchain is a list of valid blocks. To satisfy the requirements of this question, your new blockchain must be valid, and it must convince the nodes to switch from the current `blockchain` object to your new, malicious blockchain. Remember that Bitcoin nodes will always prefer the blockchain that has the most work.\n",
    "\n",
    "You should create a method call `generate_dishonest_blockchain()` that returns `bad_blockchain`\n",
    "\n",
    "_Points:_ 3"
   ]
  },
  {
   "cell_type": "code",
   "execution_count": null,
   "metadata": {
    "tags": []
   },
   "outputs": [
    {
     "data": {
      "text/plain": [
       "Ellipsis"
      ]
     },
     "execution_count": 10,
     "metadata": {},
     "output_type": "execute_result"
    }
   ],
   "source": [
    "# use the variable `bad_blockchain` to store your blockchain\n",
    "bad_blockchain = []\n",
    "\n",
    "# TODO\n",
    "# Todo: write here!\n",
    "\n",
    "def generate_dishonest_blockchain():\n",
    "    bad_blockchain = [gen_block_0(), gen_block_1()]\n",
    "    bad_blockchain[0].transactions[0].signature = \"000"
   ]
  },
  {
   "cell_type": "markdown",
   "metadata": {},
   "source": [
    "## Submitting the Assignment\n",
    "\n",
    "Please follow these instructions to complete the assignment and submit it for credit.\n",
    "\n",
    "**Documenting collaborators, sources, and AI tools:** In accordance with the collaboration policy, use the space below to report if you used any resources to complete this homework assignment, aside from the lecture notes and the course textbooks/videos. Specifically, please report:\n",
    "\n",
    "1. Names of all classmates you worked with, and a short description of the work that you performed together.\n",
    "2. All written materials that you used, such as books or websites (besides the lecture notes or textbooks). Please include links to any web-based resources, or citations to any physical works.\n",
    "3. All code that you used from other sources. In particular, if you used an AI tool, then you must include the entire exchange with the AI tool, as per the [CDS Generative AI Assistance Policy](https://www.bu.edu/cds-faculty/culture-community/gaia-policy/).\n",
    "\n",
    "Remember that if we discover any undocumented collaborators, sources, or AI tools then this is grounds for a grade penalty and referral to BU's Academic Conduct Committee (as described in the syllabus)."
   ]
  },
  {
   "cell_type": "markdown",
   "metadata": {},
   "source": [
    "_Your response:_\n",
    "\n",
    "1.\n",
    "\n",
    "2.\n",
    "\n",
    "3."
   ]
  },
  {
   "cell_type": "markdown",
   "metadata": {},
   "source": [
    "**Sending to Gradescope:** After completing the assignment:\n",
    "- if you did the assignment on Colab, download it in `.ipynb` format.\n",
    "- if you did the assignment locally on your machine, all you need to do is to find it in your directory.\n",
    "\n",
    "Then, submit only the `.ipynb` file to this week's programming assignment on Gradescope. It may take a few seconds or a minute for the auto-grading system to check your work.\n",
    "\n",
    "Remember that you can submit as many times as you want until the deadline for the assignment; only your last score counts."
   ]
  },
  {
   "cell_type": "markdown",
   "metadata": {
    "deletable": false,
    "editable": false
   },
   "source": [
    "## Submission\n",
    "\n",
    "Make sure you have run all cells in your notebook in order before running the cell below, so that all images/graphs appear in the output. The cell below will generate a zip file for you to submit. **Please save before exporting!**\n",
    "\n",
    "Submit your assignment on Gradescope once you have passed enough tests to receive at least 4 of the 5 available points."
   ]
  },
  {
   "cell_type": "code",
   "execution_count": null,
   "metadata": {
    "deletable": false,
    "editable": false
   },
   "outputs": [
    {
     "ename": "AttributeError",
     "evalue": "module 'nbconvert' has no attribute 'pdf'",
     "output_type": "error",
     "traceback": [
      "\u001b[0;31m---------------------------------------------------------------------------\u001b[0m",
      "\u001b[0;31mLatexFailed\u001b[0m                               Traceback (most recent call last)",
      "File \u001b[0;32m~/ds453-s24/ds453-grading/lib/python3.11/site-packages/otter/export/exporters/via_latex.py:66\u001b[0m, in \u001b[0;36mPDFViaLatexExporter.convert_notebook\u001b[0;34m(cls, nb_path, dest, xecjk, **kwargs)\u001b[0m\n\u001b[1;32m     64\u001b[0m         output_file\u001b[38;5;241m.\u001b[39mwrite(latex_output[\u001b[38;5;241m0\u001b[39m])\n\u001b[0;32m---> 66\u001b[0m pdf_output \u001b[38;5;241m=\u001b[39m \u001b[43mnbconvert\u001b[49m\u001b[38;5;241;43m.\u001b[39;49m\u001b[43mexport\u001b[49m\u001b[43m(\u001b[49m\u001b[43mpdf_exporter\u001b[49m\u001b[43m,\u001b[49m\u001b[43m \u001b[49m\u001b[43mnb\u001b[49m\u001b[43m)\u001b[49m\n\u001b[1;32m     67\u001b[0m \u001b[38;5;28;01mwith\u001b[39;00m \u001b[38;5;28mopen\u001b[39m(dest, \u001b[38;5;124m\"\u001b[39m\u001b[38;5;124mwb\u001b[39m\u001b[38;5;124m\"\u001b[39m) \u001b[38;5;28;01mas\u001b[39;00m output_file:\n",
      "File \u001b[0;32m~/ds453-s24/ds453-grading/lib/python3.11/site-packages/nbconvert/exporters/base.py:86\u001b[0m, in \u001b[0;36mexport\u001b[0;34m(exporter, nb, **kw)\u001b[0m\n\u001b[1;32m     85\u001b[0m \u001b[38;5;28;01mif\u001b[39;00m \u001b[38;5;28misinstance\u001b[39m(nb, NotebookNode):\n\u001b[0;32m---> 86\u001b[0m     output, resources \u001b[38;5;241m=\u001b[39m \u001b[43mexporter_instance\u001b[49m\u001b[38;5;241;43m.\u001b[39;49m\u001b[43mfrom_notebook_node\u001b[49m\u001b[43m(\u001b[49m\u001b[43mnb\u001b[49m\u001b[43m,\u001b[49m\u001b[43m \u001b[49m\u001b[43mresources\u001b[49m\u001b[43m)\u001b[49m\n\u001b[1;32m     87\u001b[0m \u001b[38;5;28;01melif\u001b[39;00m \u001b[38;5;28misinstance\u001b[39m(nb, (\u001b[38;5;28mstr\u001b[39m,)):\n",
      "File \u001b[0;32m~/ds453-s24/ds453-grading/lib/python3.11/site-packages/nbconvert/exporters/pdf.py:203\u001b[0m, in \u001b[0;36mPDFExporter.from_notebook_node\u001b[0;34m(self, nb, resources, **kw)\u001b[0m\n\u001b[1;32m    202\u001b[0m \u001b[38;5;28;01mif\u001b[39;00m \u001b[38;5;129;01mnot\u001b[39;00m os\u001b[38;5;241m.\u001b[39mpath\u001b[38;5;241m.\u001b[39misfile(pdf_file):\n\u001b[0;32m--> 203\u001b[0m     \u001b[38;5;28;01mraise\u001b[39;00m LatexFailed(\u001b[38;5;124m\"\u001b[39m\u001b[38;5;130;01m\\n\u001b[39;00m\u001b[38;5;124m\"\u001b[39m\u001b[38;5;241m.\u001b[39mjoin(\u001b[38;5;28mself\u001b[39m\u001b[38;5;241m.\u001b[39m_captured_output))\n\u001b[1;32m    204\u001b[0m \u001b[38;5;28mself\u001b[39m\u001b[38;5;241m.\u001b[39mlog\u001b[38;5;241m.\u001b[39minfo(\u001b[38;5;124m\"\u001b[39m\u001b[38;5;124mPDF successfully created\u001b[39m\u001b[38;5;124m\"\u001b[39m)\n",
      "\u001b[0;31mLatexFailed\u001b[0m: PDF creating failed, captured latex output:\nThis is BibTeX, Version 0.99d (TeX Live 2023)\nThe top-level auxiliary file: notebook.aux\nI found no \\citation commands---while reading file notebook.aux\nI found no \\bibdata command---while reading file notebook.aux\nI found no \\bibstyle command---while reading file notebook.aux\n(There were 3 error messages)\n",
      "\nDuring handling of the above exception, another exception occurred:\n",
      "\u001b[0;31mAttributeError\u001b[0m                            Traceback (most recent call last)",
      "Cell \u001b[0;32mIn[11], line 2\u001b[0m\n\u001b[1;32m      1\u001b[0m \u001b[38;5;66;03m# Save your notebook first, then run this cell to export your submission.\u001b[39;00m\n\u001b[0;32m----> 2\u001b[0m \u001b[43mgrader\u001b[49m\u001b[38;5;241;43m.\u001b[39;49m\u001b[43mexport\u001b[49m\u001b[43m(\u001b[49m\u001b[43mrun_tests\u001b[49m\u001b[38;5;241;43m=\u001b[39;49m\u001b[38;5;28;43;01mTrue\u001b[39;49;00m\u001b[43m)\u001b[49m\n",
      "File \u001b[0;32m~/ds453-s24/ds453-grading/lib/python3.11/site-packages/otter/check/utils.py:184\u001b[0m, in \u001b[0;36mgrading_mode_disabled\u001b[0;34m(wrapped, self, args, kwargs)\u001b[0m\n\u001b[1;32m    182\u001b[0m \u001b[38;5;28;01mif\u001b[39;00m \u001b[38;5;28mtype\u001b[39m(\u001b[38;5;28mself\u001b[39m)\u001b[38;5;241m.\u001b[39m_grading_mode:\n\u001b[1;32m    183\u001b[0m     \u001b[38;5;28;01mreturn\u001b[39;00m\n\u001b[0;32m--> 184\u001b[0m \u001b[38;5;28;01mreturn\u001b[39;00m \u001b[43mwrapped\u001b[49m\u001b[43m(\u001b[49m\u001b[38;5;241;43m*\u001b[39;49m\u001b[43margs\u001b[49m\u001b[43m,\u001b[49m\u001b[43m \u001b[49m\u001b[38;5;241;43m*\u001b[39;49m\u001b[38;5;241;43m*\u001b[39;49m\u001b[43mkwargs\u001b[49m\u001b[43m)\u001b[49m\n",
      "File \u001b[0;32m~/ds453-s24/ds453-grading/lib/python3.11/site-packages/otter/check/utils.py:166\u001b[0m, in \u001b[0;36mincompatible_with.<locals>.incompatible\u001b[0;34m(wrapped, self, args, kwargs)\u001b[0m\n\u001b[1;32m    164\u001b[0m     \u001b[38;5;28;01melse\u001b[39;00m:\n\u001b[1;32m    165\u001b[0m         \u001b[38;5;28;01mreturn\u001b[39;00m\n\u001b[0;32m--> 166\u001b[0m \u001b[38;5;28;01mreturn\u001b[39;00m \u001b[43mwrapped\u001b[49m\u001b[43m(\u001b[49m\u001b[38;5;241;43m*\u001b[39;49m\u001b[43margs\u001b[49m\u001b[43m,\u001b[49m\u001b[43m \u001b[49m\u001b[38;5;241;43m*\u001b[39;49m\u001b[38;5;241;43m*\u001b[39;49m\u001b[43mkwargs\u001b[49m\u001b[43m)\u001b[49m\n",
      "File \u001b[0;32m~/ds453-s24/ds453-grading/lib/python3.11/site-packages/otter/check/utils.py:217\u001b[0m, in \u001b[0;36mlogs_event.<locals>.event_logger\u001b[0;34m(wrapped, self, args, kwargs)\u001b[0m\n\u001b[1;32m    215\u001b[0m \u001b[38;5;28;01mexcept\u001b[39;00m \u001b[38;5;167;01mException\u001b[39;00m \u001b[38;5;28;01mas\u001b[39;00m e:\n\u001b[1;32m    216\u001b[0m     \u001b[38;5;28mself\u001b[39m\u001b[38;5;241m.\u001b[39m_log_event(event_type, success\u001b[38;5;241m=\u001b[39m\u001b[38;5;28;01mFalse\u001b[39;00m, error\u001b[38;5;241m=\u001b[39me)\n\u001b[0;32m--> 217\u001b[0m     \u001b[38;5;28;01mraise\u001b[39;00m e\n\u001b[1;32m    219\u001b[0m \u001b[38;5;28;01mif\u001b[39;00m ret \u001b[38;5;129;01mis\u001b[39;00m \u001b[38;5;28;01mNone\u001b[39;00m:\n\u001b[1;32m    220\u001b[0m     ret \u001b[38;5;241m=\u001b[39m LoggedEventReturnValue(\u001b[38;5;28;01mNone\u001b[39;00m)\n",
      "File \u001b[0;32m~/ds453-s24/ds453-grading/lib/python3.11/site-packages/otter/check/utils.py:213\u001b[0m, in \u001b[0;36mlogs_event.<locals>.event_logger\u001b[0;34m(wrapped, self, args, kwargs)\u001b[0m\n\u001b[1;32m    208\u001b[0m \u001b[38;5;250m\u001b[39m\u001b[38;5;124;03m\"\"\"\u001b[39;00m\n\u001b[1;32m    209\u001b[0m \u001b[38;5;124;03mRuns a method, catching any errors and logging the call. Returns the unwrapped return value\u001b[39;00m\n\u001b[1;32m    210\u001b[0m \u001b[38;5;124;03mof the wrapped function.\u001b[39;00m\n\u001b[1;32m    211\u001b[0m \u001b[38;5;124;03m\"\"\"\u001b[39;00m\n\u001b[1;32m    212\u001b[0m \u001b[38;5;28;01mtry\u001b[39;00m:\n\u001b[0;32m--> 213\u001b[0m     ret: Optional[LoggedEventReturnValue[T]] \u001b[38;5;241m=\u001b[39m \u001b[43mwrapped\u001b[49m\u001b[43m(\u001b[49m\u001b[38;5;241;43m*\u001b[39;49m\u001b[43margs\u001b[49m\u001b[43m,\u001b[49m\u001b[43m \u001b[49m\u001b[38;5;241;43m*\u001b[39;49m\u001b[38;5;241;43m*\u001b[39;49m\u001b[43mkwargs\u001b[49m\u001b[43m)\u001b[49m\n\u001b[1;32m    215\u001b[0m \u001b[38;5;28;01mexcept\u001b[39;00m \u001b[38;5;167;01mException\u001b[39;00m \u001b[38;5;28;01mas\u001b[39;00m e:\n\u001b[1;32m    216\u001b[0m     \u001b[38;5;28mself\u001b[39m\u001b[38;5;241m.\u001b[39m_log_event(event_type, success\u001b[38;5;241m=\u001b[39m\u001b[38;5;28;01mFalse\u001b[39;00m, error\u001b[38;5;241m=\u001b[39me)\n",
      "File \u001b[0;32m~/ds453-s24/ds453-grading/lib/python3.11/site-packages/otter/check/notebook.py:462\u001b[0m, in \u001b[0;36mNotebook.export\u001b[0;34m(self, nb_path, export_path, pdf, filtering, pagebreaks, files, display_link, force_save, run_tests)\u001b[0m\n\u001b[1;32m    460\u001b[0m pdf_created \u001b[38;5;241m=\u001b[39m \u001b[38;5;28;01mTrue\u001b[39;00m\n\u001b[1;32m    461\u001b[0m \u001b[38;5;28;01mif\u001b[39;00m pdf:\n\u001b[0;32m--> 462\u001b[0m     pdf_path \u001b[38;5;241m=\u001b[39m \u001b[43mexport_notebook\u001b[49m\u001b[43m(\u001b[49m\u001b[43mnb_path\u001b[49m\u001b[43m,\u001b[49m\u001b[43m \u001b[49m\u001b[43mfiltering\u001b[49m\u001b[38;5;241;43m=\u001b[39;49m\u001b[43mfiltering\u001b[49m\u001b[43m,\u001b[49m\u001b[43m \u001b[49m\u001b[43mpagebreaks\u001b[49m\u001b[38;5;241;43m=\u001b[39;49m\u001b[43mpagebreaks\u001b[49m\u001b[43m)\u001b[49m\n\u001b[1;32m    463\u001b[0m     \u001b[38;5;28;01mif\u001b[39;00m os\u001b[38;5;241m.\u001b[39mpath\u001b[38;5;241m.\u001b[39misfile(pdf_path):\n\u001b[1;32m    464\u001b[0m         pdf_created \u001b[38;5;241m=\u001b[39m \u001b[38;5;28;01mTrue\u001b[39;00m\n",
      "File \u001b[0;32m~/ds453-s24/ds453-grading/lib/python3.11/site-packages/otter/export/__init__.py:36\u001b[0m, in \u001b[0;36mexport_notebook\u001b[0;34m(nb_path, dest, exporter_type, **kwargs)\u001b[0m\n\u001b[1;32m     33\u001b[0m     pdf_name \u001b[38;5;241m=\u001b[39m os\u001b[38;5;241m.\u001b[39mpath\u001b[38;5;241m.\u001b[39msplitext(nb_path)[\u001b[38;5;241m0\u001b[39m] \u001b[38;5;241m+\u001b[39m \u001b[38;5;124m\"\u001b[39m\u001b[38;5;124m.pdf\u001b[39m\u001b[38;5;124m\"\u001b[39m\n\u001b[1;32m     35\u001b[0m Exporter \u001b[38;5;241m=\u001b[39m get_exporter(exporter_type\u001b[38;5;241m=\u001b[39mexporter_type)\n\u001b[0;32m---> 36\u001b[0m \u001b[43mExporter\u001b[49m\u001b[38;5;241;43m.\u001b[39;49m\u001b[43mconvert_notebook\u001b[49m\u001b[43m(\u001b[49m\u001b[43mnb_path\u001b[49m\u001b[43m,\u001b[49m\u001b[43m \u001b[49m\u001b[43mpdf_name\u001b[49m\u001b[43m,\u001b[49m\u001b[43m \u001b[49m\u001b[38;5;241;43m*\u001b[39;49m\u001b[38;5;241;43m*\u001b[39;49m\u001b[43mkwargs\u001b[49m\u001b[43m)\u001b[49m\n\u001b[1;32m     38\u001b[0m \u001b[38;5;28;01mreturn\u001b[39;00m pdf_name\n",
      "File \u001b[0;32m~/ds453-s24/ds453-grading/lib/python3.11/site-packages/otter/export/exporters/via_latex.py:70\u001b[0m, in \u001b[0;36mPDFViaLatexExporter.convert_notebook\u001b[0;34m(cls, nb_path, dest, xecjk, **kwargs)\u001b[0m\n\u001b[1;32m     67\u001b[0m     \u001b[38;5;28;01mwith\u001b[39;00m \u001b[38;5;28mopen\u001b[39m(dest, \u001b[38;5;124m\"\u001b[39m\u001b[38;5;124mwb\u001b[39m\u001b[38;5;124m\"\u001b[39m) \u001b[38;5;28;01mas\u001b[39;00m output_file:\n\u001b[1;32m     68\u001b[0m         output_file\u001b[38;5;241m.\u001b[39mwrite(pdf_output[\u001b[38;5;241m0\u001b[39m])\n\u001b[0;32m---> 70\u001b[0m \u001b[38;5;28;01mexcept\u001b[39;00m \u001b[43mnbconvert\u001b[49m\u001b[38;5;241;43m.\u001b[39;49m\u001b[43mpdf\u001b[49m\u001b[38;5;241m.\u001b[39mLatexFailed \u001b[38;5;28;01mas\u001b[39;00m error:\n\u001b[1;32m     71\u001b[0m     message \u001b[38;5;241m=\u001b[39m \u001b[38;5;124m\"\u001b[39m\u001b[38;5;124mThere was an error generating your LaTeX; showing full error message:\u001b[39m\u001b[38;5;130;01m\\n\u001b[39;00m\u001b[38;5;124m\"\u001b[39m\n\u001b[1;32m     72\u001b[0m     message \u001b[38;5;241m+\u001b[39m\u001b[38;5;241m=\u001b[39m indent(error\u001b[38;5;241m.\u001b[39moutput, \u001b[38;5;124m\"\u001b[39m\u001b[38;5;124m    \u001b[39m\u001b[38;5;124m\"\u001b[39m)\n",
      "\u001b[0;31mAttributeError\u001b[0m: module 'nbconvert' has no attribute 'pdf'"
     ]
    }
   ],
   "source": [
    "# Save your notebook first, then run this cell to export your submission.\n",
    "grader.export(run_tests=True)"
   ]
  },
  {
   "cell_type": "markdown",
   "metadata": {},
   "source": [
    " "
   ]
  }
 ],
 "metadata": {
  "kernelspec": {
   "display_name": "ds453-grading",
   "language": "python",
   "name": "python3"
  },
  "language_info": {
   "codemirror_mode": {
    "name": "ipython",
    "version": 3
   },
   "file_extension": ".py",
   "mimetype": "text/x-python",
   "name": "python",
   "nbconvert_exporter": "python",
   "pygments_lexer": "ipython3",
   "version": "3.11.0"
  },
  "otter": {
   "OK_FORMAT": true,
   "tests": {
    "q1": {
     "name": "q1",
     "points": 2,
     "suites": [
      {
       "cases": [],
       "scored": true,
       "setup": "",
       "teardown": "",
       "type": "doctest"
      }
     ]
    },
    "q2": {
     "name": "q2",
     "points": 3,
     "suites": [
      {
       "cases": [],
       "scored": true,
       "setup": "",
       "teardown": "",
       "type": "doctest"
      }
     ]
    }
   }
  }
 },
 "nbformat": 4,
 "nbformat_minor": 2
}
