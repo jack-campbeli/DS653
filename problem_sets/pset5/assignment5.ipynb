{
 "cells": [
  {
   "cell_type": "code",
   "execution_count": 1,
   "metadata": {
    "deletable": false,
    "editable": false
   },
   "outputs": [],
   "source": [
    "# Initialize Otter\n",
    "import otter\n",
    "grader = otter.Notebook(\"assignment5.ipynb\")"
   ]
  },
  {
   "cell_type": "markdown",
   "metadata": {},
   "source": [
    "# DS 453 / 653: Programming Assignment 5\n",
    "\n",
    "**Due date**: Thursday, Feburary 29 at 8pm on [Gradescope](https://www.gradescope.com/courses/710247).\n",
    "\n",
    "_You must follow the Academic Code of Conduct and Collaboration Policy stated in the course syllabus at all times while working on this assignment._\n",
    "\n",
    "This assignment contains 2 questions worth a total of 5 points. You must receive at least 4 points to pass the assignment.\n",
    "\n",
    "To begin, please execute the code block below:"
   ]
  },
  {
   "cell_type": "code",
   "execution_count": 2,
   "metadata": {},
   "outputs": [],
   "source": [
    "import otter\n",
    "grader = otter.Notebook()"
   ]
  },
  {
   "cell_type": "markdown",
   "metadata": {},
   "source": [
    "## Assignment Overview\n",
    "\n",
    "The goal of this assignment is to learn about consensus protocols in the synchronous setting. Specifically, we will study the Gradecast and phase-king protocols.\n",
    "\n",
    "To do so, the instructors have provided code that will act as the network to connect a collection of parties. We provide the code below. While you should read it in detail to make sure you understand its behavior, for now just execute the code block and we will show an example below.\n",
    "\n",
    "To instantiate these classes, execute the Python code below."
   ]
  },
  {
   "cell_type": "code",
   "execution_count": 3,
   "metadata": {},
   "outputs": [],
   "source": [
    "## Execute, but DO NOT MODIFY this code block ##\n",
    "\n",
    "import random\n",
    "from enum import IntEnum\n",
    "\n",
    "# The Value enum contains all possible values that an honest or faulty party can send:\n",
    "# either a bit (0 or 1) or a special catch-all value called \"Null\" for anything else.\n",
    "class Value(IntEnum):\n",
    "    Zero = 0\n",
    "    One  = 1\n",
    "    Null = -999\n",
    "\n",
    "# The Party class is a base class representing a single participant in a distributed protocol.\n",
    "# This party can choose what messages to send, and can record the contents of messages received.\n",
    "class Party:\n",
    "    def __init__(self, id: int, nb_faulty_parties: int, nb_total_parties: int, input: Value):\n",
    "        # Precondition: we guarantee that the party's id is between 1 and n\n",
    "        self.id = id\n",
    "        # In your code, you should assume that the party is honest\n",
    "        # (we handle faulty parties separately in the SynchronousNetwork class)\n",
    "        self.input = input\n",
    "        self.is_faulty = False\n",
    "        self.f = nb_faulty_parties\n",
    "        self.n = nb_total_parties\n",
    "\n",
    "    # send and receive proceeds in rounds\n",
    "    # our SynchronousNetwork always completes one round before starting the next one\n",
    "    def send(self, round_number: int, destination_party: int) -> Value:\n",
    "        return\n",
    "\n",
    "    def receive(self, round_number: int, sender_party: int, val: Value) -> None:\n",
    "        # do an action based on what you receive from the sender party\n",
    "        # but don't return anything\n",
    "        return None\n",
    "\n",
    "    # the output method is only run once at the end of the protocol\n",
    "    # after all rounds of communication are complete\n",
    "    def output(self):\n",
    "        ## return what this party decides to output\n",
    "        return\n",
    "\n",
    "class SynchronousNetwork:\n",
    "    def __init__(self, PartyType, nb_faulty_parties: int,\n",
    "                 nb_total_parties: int, inputs: list, debug=False):\n",
    "        # verify that f < n\n",
    "        assert(nb_faulty_parties < nb_total_parties)\n",
    "        assert(len(inputs) == nb_total_parties)\n",
    "        self.debug = debug\n",
    "\n",
    "        # creating several parties with the prescribed inputs\n",
    "        self.parties = [PartyType(i, nb_faulty_parties, nb_total_parties,\n",
    "                                  inputs[i-1]) for i in range(1, nb_total_parties + 1)]\n",
    "        self.debug_print(\"Inputs:\")\n",
    "        for i in range(1, nb_total_parties + 1):\n",
    "            self.debug_print(\"Party \" + str(i) + \" input: \" + inputs[i-1].name)\n",
    "\n",
    "        # randomly set some of the parties to be faulty\n",
    "        for p in random.sample(self.parties, nb_faulty_parties):\n",
    "            p.is_faulty = True\n",
    "        self.leader = random.sample(self.parties, 1)[0]\n",
    "\n",
    "    def run(self, nb_rounds) -> list:\n",
    "        # execute all nb_rounds rounds of the synchronous protocol, in order\n",
    "        for i in range(1, nb_rounds + 1):\n",
    "            self.debug_print(\"\\nStart of round \" + str(i) + \":\")\n",
    "\n",
    "            for p1 in self.parties:\n",
    "                for p2 in self.parties:\n",
    "                    # each party can send one message to all parties (including itself!)\n",
    "                    val = SynchronousNetwork.send_with_errors(i, p1, p2)\n",
    "                    self.debug_print(\"party with id \" + str(p1.id) + \" sending to party with id \"\n",
    "                                         + str(p2.id) + \" a message with content: \" + val.name)\n",
    "\n",
    "                    # recipient receives the message instantaneously\n",
    "                    p2.receive(i, p1.id, val)\n",
    "\n",
    "        # after all rounds are finished, retrieve each party's output\n",
    "        res = [p.output() for p in self.parties]\n",
    "\n",
    "        # the faulty party has no output\n",
    "        for i in range(len(self.parties)):\n",
    "            if(self.parties[i].is_faulty == True):\n",
    "                res[i] = Value.Null\n",
    "\n",
    "        self.debug_print(\"\\nOutputs are saved as the return value\")\n",
    "        return res\n",
    "\n",
    "    def send_with_errors(round_nb, sender, recv) -> Value:\n",
    "        # for honest parties, call the sender party and perform the action it wants\n",
    "        if (not sender.is_faulty):\n",
    "            return sender.send(round_nb, recv)\n",
    "        # in this homework, a faulty party chooses a value to send at random\n",
    "        # note that independent randomness is used for each message sent, in each round\n",
    "        else:\n",
    "            return SynchronousNetwork.randomValue()\n",
    "\n",
    "    def randomValue() -> Value:\n",
    "        r = random.random()\n",
    "        if(r < 0.4): return Value.Zero\n",
    "        if(r < 0.8): return Value.One\n",
    "        else:        return Value.Null\n",
    "\n",
    "    # pretty-printer that you can use to view the network communication\n",
    "    def debug_print(self, obj):\n",
    "        if self.debug:\n",
    "            print(obj)\n",
    "        else:\n",
    "            pass"
   ]
  },
  {
   "cell_type": "markdown",
   "metadata": {},
   "source": [
    "This code block provides two classes: a `Party` object that represents a single computer in a network, and a `SynchronousNetwork` that allows several `Party` objects to communicate.\n",
    "\n",
    "Within each message communication, the sender can pick a `Value` from three options: `Value.Zero`, `Value.One`, or `Value.Null`. In words, the sender can choose any bit value (0 or 1), or it can send nothing.\n",
    "\n",
    "The overall network contains `nb_total_parties` parties, of which a subset of `nb_faulty_parties` are faulty. Faulty parties behave chaotically: they send random messages and they never produce an output.\n",
    "\n",
    "The network runs all of the parties (roughly) in parallel. You only have to write the code from the perspective of a single party $i$, and the network will handle the execution of all parties."
   ]
  },
  {
   "cell_type": "markdown",
   "metadata": {},
   "source": [
    "__An example.__ To give you an example of what we mean by this, consider a 1-round protocol in which all odd-numbered parties send `Value.One` and the even-numbered parties send `Value.Zero`. Here is how we can write the code that explains how a single party behaves."
   ]
  },
  {
   "cell_type": "code",
   "execution_count": 4,
   "metadata": {},
   "outputs": [],
   "source": [
    "class ParityParty(Party):\n",
    "    def __init__(self, *args, **kwargs):  # has the same arguments as the base class\n",
    "        super().__init__(*args, **kwargs) # executes init from the base class\n",
    "\n",
    "    def send(self, round_number: int, destination_party: int) -> Value:\n",
    "        if(self.id % 2 == 1):\n",
    "            return Value.One\n",
    "        else:\n",
    "            return Value.Zero\n",
    "\n",
    "    def receive(self, round_number: int, sender_party: int, val: Value) -> None:\n",
    "        return\n",
    "    \n",
    "    def output(self):\n",
    "        # in this example we always return a value of 0, regardless of inputs or messages\n",
    "        return Value.Zero"
   ]
  },
  {
   "cell_type": "markdown",
   "metadata": {},
   "source": [
    "Now let's connect four of these parity parties together. The neat thing is that even though we wrote the protocol from the 'local' perspective of a single party, the `SynchronousNetwork` class will now create the 'global' view of all parties in the network.\n",
    "\n",
    "We will also give each party an input value, even though they don't use it in this simple protocol. Let's see what happens if we run this network, where one of the parties is faulty."
   ]
  },
  {
   "cell_type": "code",
   "execution_count": 5,
   "metadata": {},
   "outputs": [
    {
     "name": "stdout",
     "output_type": "stream",
     "text": [
      "Inputs:\n",
      "Party 1 input: One\n",
      "Party 2 input: Zero\n",
      "Party 3 input: One\n",
      "Party 4 input: Zero\n",
      "\n",
      "Start of round 1:\n",
      "party with id 1 sending to party with id 1 a message with content: One\n",
      "party with id 1 sending to party with id 2 a message with content: One\n",
      "party with id 1 sending to party with id 3 a message with content: One\n",
      "party with id 1 sending to party with id 4 a message with content: One\n",
      "party with id 2 sending to party with id 1 a message with content: One\n",
      "party with id 2 sending to party with id 2 a message with content: Null\n",
      "party with id 2 sending to party with id 3 a message with content: Null\n",
      "party with id 2 sending to party with id 4 a message with content: One\n",
      "party with id 3 sending to party with id 1 a message with content: One\n",
      "party with id 3 sending to party with id 2 a message with content: One\n",
      "party with id 3 sending to party with id 3 a message with content: One\n",
      "party with id 3 sending to party with id 4 a message with content: One\n",
      "party with id 4 sending to party with id 1 a message with content: Zero\n",
      "party with id 4 sending to party with id 2 a message with content: Zero\n",
      "party with id 4 sending to party with id 3 a message with content: Zero\n",
      "party with id 4 sending to party with id 4 a message with content: Zero\n",
      "\n",
      "Outputs are saved as the return value\n",
      "[<Value.Zero: 0>, <Value.Null: -999>, <Value.Zero: 0>, <Value.Zero: 0>]\n"
     ]
    }
   ],
   "source": [
    "parity_inputs = [Value.One, Value.Zero, Value.One, Value.Zero]\n",
    "parityNetwork = SynchronousNetwork(ParityParty, 1, 4, parity_inputs, debug=True)\n",
    "result = parityNetwork.run(1) # the number 1 tells the network to run for one round\n",
    "print(result)"
   ]
  },
  {
   "cell_type": "markdown",
   "metadata": {},
   "source": [
    "As you can see, the first 3 parties followed the protocol. They sent a consistent value to each party in the system... including a message to themselves!\n",
    "\n",
    "But party 4 is faulty. It disregards the rules of the game: rather than sending a `Value.Zero` to everyone, it has sent `Value.One` to one party, `Value.Zero` to two parties, and `Value.Null` to one party. Also, the faulty party has no output -- more precisely, it always outputs `Value.Null`.\n",
    "\n",
    "Hopefully this gives you a flavor of how the `SynchronousNetwork` class connects the parties together. Now let's try building a real protocol in this way."
   ]
  },
  {
   "cell_type": "markdown",
   "metadata": {
    "deletable": false,
    "editable": false
   },
   "source": [
    "### Question 1: Construct the Gradecast protocol\n",
    "\n",
    "__Your task__: In the code block below, write Python code that executes one party's component of the Gradecast protocol. Additionally, comment your code to describe each part of the protocol in words.\n",
    "\n",
    "__Your response:__"
   ]
  },
  {
   "cell_type": "code",
   "execution_count": 6,
   "metadata": {},
   "outputs": [],
   "source": [
    "class GradecastParty(Party):\n",
    "    def __init__(self, *args, **kwargs):  # has the same arguments as the base class\n",
    "        super().__init__(*args, **kwargs) # executes init from the base class\n",
    "        \n",
    "        # *** #\n",
    "        self.values_received = {1: [], 2: []}\n",
    "\n",
    "        # description: added a dictionary to keep track of the number of times a value is received\n",
    "        # *** #\n",
    "\n",
    "\n",
    "    def send(self, round_number: int, destination_party: int):\n",
    "\n",
    "        # *** #\n",
    "        # description: \n",
    "        # if it's the first round, send the party's input\n",
    "        # if it's the second round, send the value that was received the most\n",
    "        # otherwise, send Null\n",
    "        # *** #\n",
    "\n",
    "        if round_number == 1:\n",
    "            return self.input\n",
    "        elif round_number == 2:\n",
    "            for value in set(self.values_received[1]):\n",
    "                if self.values_received[1].count(value) >= self.n - self.f:\n",
    "                    return value\n",
    "        return Value.Null\n",
    "\n",
    "    def receive(self, round_number: int, sender_party: int, val: Value):\n",
    "        \n",
    "        # *** #\n",
    "        # description:\n",
    "        # append value to the list of values received in the corresponding round\n",
    "        # *** #\n",
    "\n",
    "        self.values_received[round_number].append(val)\n",
    "\n",
    "    def output(self):\n",
    "        # TODO: complete this function\n",
    "        zero_total = len([zero for zero in self.values_received[2] if zero == Value.Zero])\n",
    "        one_total = len([one for one in self.values_received[2] if one == Value.One])\n",
    "\n",
    "        if one_total >= self.n - self.f:\n",
    "            return (Value.One, 2)\n",
    "        elif zero_total >= self.n - self.f:\n",
    "            return (Value.Zero, 2)\n",
    "        elif one_total >= self.f + 1:\n",
    "            return (Value.One, 1)\n",
    "        elif zero_total >= self.f + 1:\n",
    "            return (Value.Zero, 1)\n",
    "        else:\n",
    "            return (self.input, 0)"
   ]
  },
  {
   "cell_type": "code",
   "execution_count": 7,
   "metadata": {
    "tags": []
   },
   "outputs": [
    {
     "name": "stdout",
     "output_type": "stream",
     "text": [
      "Inputs:\n",
      "Party 1 input: Zero\n",
      "Party 2 input: Zero\n",
      "Party 3 input: Zero\n",
      "Party 4 input: One\n",
      "\n",
      "Start of round 1:\n",
      "party with id 1 sending to party with id 1 a message with content: Zero\n",
      "party with id 1 sending to party with id 2 a message with content: Zero\n",
      "party with id 1 sending to party with id 3 a message with content: Zero\n",
      "party with id 1 sending to party with id 4 a message with content: Zero\n",
      "party with id 2 sending to party with id 1 a message with content: Zero\n",
      "party with id 2 sending to party with id 2 a message with content: Zero\n",
      "party with id 2 sending to party with id 3 a message with content: Zero\n",
      "party with id 2 sending to party with id 4 a message with content: Zero\n",
      "party with id 3 sending to party with id 1 a message with content: Zero\n",
      "party with id 3 sending to party with id 2 a message with content: Zero\n",
      "party with id 3 sending to party with id 3 a message with content: Zero\n",
      "party with id 3 sending to party with id 4 a message with content: Zero\n",
      "party with id 4 sending to party with id 1 a message with content: One\n",
      "party with id 4 sending to party with id 2 a message with content: Null\n",
      "party with id 4 sending to party with id 3 a message with content: Null\n",
      "party with id 4 sending to party with id 4 a message with content: Null\n",
      "\n",
      "Start of round 2:\n",
      "party with id 1 sending to party with id 1 a message with content: Zero\n",
      "party with id 1 sending to party with id 2 a message with content: Zero\n",
      "party with id 1 sending to party with id 3 a message with content: Zero\n",
      "party with id 1 sending to party with id 4 a message with content: Zero\n",
      "party with id 2 sending to party with id 1 a message with content: Zero\n",
      "party with id 2 sending to party with id 2 a message with content: Zero\n",
      "party with id 2 sending to party with id 3 a message with content: Zero\n",
      "party with id 2 sending to party with id 4 a message with content: Zero\n",
      "party with id 3 sending to party with id 1 a message with content: Zero\n",
      "party with id 3 sending to party with id 2 a message with content: Zero\n",
      "party with id 3 sending to party with id 3 a message with content: Zero\n",
      "party with id 3 sending to party with id 4 a message with content: Zero\n",
      "party with id 4 sending to party with id 1 a message with content: One\n",
      "party with id 4 sending to party with id 2 a message with content: One\n",
      "party with id 4 sending to party with id 3 a message with content: One\n",
      "party with id 4 sending to party with id 4 a message with content: Null\n",
      "\n",
      "Outputs are saved as the return value\n",
      "[(<Value.Zero: 0>, 2), (<Value.Zero: 0>, 2), (<Value.Zero: 0>, 2), <Value.Null: -999>]\n"
     ]
    }
   ],
   "source": [
    "skewed_zeros = [Value.Zero, Value.Zero, Value.Zero, Value.One]\n",
    "gradecastNetwork = SynchronousNetwork(GradecastParty, 1, 4, skewed_zeros, debug=True)\n",
    "result = gradecastNetwork.run(2)\n",
    "\n",
    "print(result)"
   ]
  },
  {
   "cell_type": "markdown",
   "metadata": {
    "deletable": false,
    "editable": false
   },
   "source": [
    "Once you are satisfied that your code works properly, you can run the tests below. There are two tests: one to check the validity property, and another to check the knowledge of agreement property. Each test performs many executions of the Gradecast \n",
    "\n",
    "_Points:_ 2"
   ]
  },
  {
   "cell_type": "code",
   "execution_count": 8,
   "metadata": {
    "deletable": false,
    "editable": false
   },
   "outputs": [
    {
     "data": {
      "text/html": [
       "<p><strong><pre style='display: inline;'>q1</pre></strong> passed! 🍀</p>"
      ],
      "text/plain": [
       "q1 results: All test cases passed!"
      ]
     },
     "execution_count": 8,
     "metadata": {},
     "output_type": "execute_result"
    }
   ],
   "source": [
    "grader.check(\"q1\")"
   ]
  },
  {
   "cell_type": "markdown",
   "metadata": {
    "deletable": false,
    "editable": false
   },
   "source": [
    "### Question 2: Construct the Phase-King protocol\n",
    "\n",
    "__Your task:__ In the code block below, write Python code that executes one party's component of the phase-king protocol.\n",
    "\n",
    "Once again, you may wish to review the lecture notes before starting this question. Make sure to describe your work using code comments and/or a written text explanation.\n",
    "\n",
    "__Your response:__\n",
    "\n",
    "_Points:_ 3"
   ]
  },
  {
   "cell_type": "code",
   "execution_count": 9,
   "metadata": {
    "tags": []
   },
   "outputs": [],
   "source": [
    "class PhaseKingParty(Party):\n",
    "    def __init__(self, *args, **kwargs):  # has the same arguments as the base class\n",
    "        super().__init__(*args, **kwargs) # executes init from the base class\n",
    "\n",
    "        # create grade and terminate variables\n",
    "        self.grade = 0\n",
    "        self.gc = GradecastParty(self.id, self.f, self.n, self.input)\n",
    "        self.terminate = [False] * self.n\n",
    "        \n",
    "    def send(self, round_number: int, destination_party: int) -> Value:\n",
    "\n",
    "        # if it's the first round and the party is the leader, send the party's input\n",
    "        if round_number % 3 == 1 and round_number // 3 + 1 == self.id:\n",
    "\n",
    "            v, g = self.gc.output()\n",
    "            self.input = v\n",
    "            self.grade = g\n",
    "\n",
    "            self.gc = GradecastParty(self.id, self.f, self.n, self.input)\n",
    "            \n",
    "            return self.input\n",
    "\n",
    "        # if it's the second round, send the value that was received the most\n",
    "        elif round_number % 3 == 2:\n",
    "            return self.gc.send(1, destination_party)\n",
    "        \n",
    "        # if it's the third round, send the value that was received the most\n",
    "        elif round_number % 3 == 0:\n",
    "            return self.gc.send(2, destination_party)\n",
    "        \n",
    "        return Value.Null\n",
    "            \n",
    "    def receive(self, round_number: int, sender_party: int, val: Value) -> None:\n",
    "\n",
    "        # if it's the first round, receive the value and grade if self.grade < 2\n",
    "        if round_number % 3 == 1 and round_number // 3 + 1 == sender_party:\n",
    "            \n",
    "            v, g = self.gc.output()\n",
    "            self.input = v\n",
    "            self.grade = g\n",
    "            \n",
    "            if self.grade < 2:\n",
    "                self.input = val            \n",
    "            \n",
    "            self.gc = GradecastParty(self.id, self.f, self.n, self.input)\n",
    "            return \n",
    "        \n",
    "        # if it's the second round, receive the value\n",
    "        elif round_number % 3 == 2:\n",
    "            return self.gc.receive(1, sender_party, val)\n",
    "        \n",
    "        # if it's the third round, receive the value\n",
    "        elif round_number % 3 == 0:\n",
    "            self.gc.receive(2, sender_party, val) \n",
    "            return\n",
    " \n",
    "    def output(self):            \n",
    "        return self.input"
   ]
  },
  {
   "cell_type": "code",
   "execution_count": 10,
   "metadata": {},
   "outputs": [
    {
     "data": {
      "text/plain": [
       "True"
      ]
     },
     "execution_count": 10,
     "metadata": {},
     "output_type": "execute_result"
    }
   ],
   "source": [
    "def test2():\n",
    "    consistent_zeros = [Value.Zero, Value.Zero, Value.Zero, Value.Zero]\n",
    "    skewed_zeros = [Value.Zero, Value.Zero, Value.Zero, Value.One]\n",
    "    balanced_inputs = [Value.Zero, Value.Zero, Value.One, Value.One]\n",
    "    skewed_ones = [Value.Zero, Value.One, Value.One, Value.One]\n",
    "    consistent_ones = [Value.One, Value.One, Value.One, Value.One]\n",
    "    for input in [consistent_zeros, skewed_zeros, balanced_inputs, skewed_ones, consistent_ones]:\n",
    "        for _ in range(8000):\n",
    "            phaseking = SynchronousNetwork(PhaseKingParty, 1, 4, input, debug=False)\n",
    "            result = phaseking.run(6)\n",
    "            if phaseking.parties[0].is_faulty == False:\n",
    "                expected_output = input[0]\n",
    "            else:\n",
    "                expected_output = result[1]\n",
    "            for i in range(4):\n",
    "                if phaseking.parties[i].is_faulty == False:\n",
    "                    assert result[i] == expected_output\n",
    "    return True\n",
    "\n",
    "test2()"
   ]
  },
  {
   "cell_type": "code",
   "execution_count": 11,
   "metadata": {
    "deletable": false,
    "editable": false
   },
   "outputs": [
    {
     "data": {
      "text/html": [
       "<p><strong><pre style='display: inline;'>q2</pre></strong> passed! 🎉</p>"
      ],
      "text/plain": [
       "q2 results: All test cases passed!"
      ]
     },
     "execution_count": 11,
     "metadata": {},
     "output_type": "execute_result"
    }
   ],
   "source": [
    "grader.check(\"q2\")"
   ]
  },
  {
   "cell_type": "markdown",
   "metadata": {},
   "source": [
    "## Submitting the Assignment\n",
    "\n",
    "Please follow these instructions to complete the assignment and submit it for credit.\n",
    "\n",
    "**Documenting collaborators, sources, and AI tools:** In accordance with the collaboration policy, use the space below to report if you used any resources to complete this homework assignment, aside from the lecture notes and the course textbooks/videos. Specifically, please report:\n",
    "\n",
    "1. Names of all classmates you worked with, and a short description of the work that you performed together.\n",
    "2. All written materials that you used, such as books or websites (besides the lecture notes or textbooks). Please include links to any web-based resources, or citations to any physical works.\n",
    "3. All code that you used from other sources. In particular, if you used an AI tool, then you must include the entire exchange with the AI tool, as per the [CDS Generative AI Assistance Policy](https://www.bu.edu/cds-faculty/culture-community/gaia-policy/).\n",
    "\n",
    "Remember that if we discover any undocumented collaborators, sources, or AI tools then this is grounds for a grade penalty and referral to BU's Academic Conduct Committee (as described in the syllabus)."
   ]
  },
  {
   "cell_type": "markdown",
   "metadata": {},
   "source": [
    "_Your response:_\n",
    "\n",
    "1. Anush\n",
    "\n",
    "2.\n",
    "\n",
    "3."
   ]
  },
  {
   "cell_type": "markdown",
   "metadata": {},
   "source": [
    "**Sending to Gradescope:** After completing the assignment:\n",
    "- if you did the assignment on Colab, download it in `.ipynb` format.\n",
    "- if you did the assignment locally on your machine, all you need to do is to find it in your directory.\n",
    "\n",
    "Then, submit only the `.ipynb` file to this week's programming assignment on Gradescope. It may take a few seconds or a minute for the auto-grading system to check your work.\n",
    "\n",
    "Remember that you can submit as many times as you want until the deadline for the assignment; only your last score counts."
   ]
  }
 ],
 "metadata": {
  "kernelspec": {
   "display_name": "ds453-grading",
   "language": "python",
   "name": "python3"
  },
  "language_info": {
   "codemirror_mode": {
    "name": "ipython",
    "version": 3
   },
   "file_extension": ".py",
   "mimetype": "text/x-python",
   "name": "python",
   "nbconvert_exporter": "python",
   "pygments_lexer": "ipython3",
   "version": "3.8.2"
  },
  "otter": {
   "OK_FORMAT": true,
   "tests": {
    "q1": {
     "name": "q1",
     "points": 2,
     "suites": [
      {
       "cases": [
        {
         "code": ">>> def test1_validity():\n...     consistent_zeros_four_parties = [Value.Zero, Value.Zero, Value.Zero, Value.Zero]\n...     consistent_ones_four_parties = [Value.One, Value.One, Value.One, Value.One]\n...     for input in [consistent_zeros_four_parties, consistent_ones_four_parties]:\n...         for _ in range(5000):\n...             gradecastNetwork = SynchronousNetwork(GradecastParty, 1, 4, input, debug=False)\n...             result = gradecastNetwork.run(2)\n...             for i in range(4):\n...                 if gradecastNetwork.parties[i].is_faulty == False:\n...                     assert result[i] == (input[0], 2)\n...     consistent_zeros_seven_parties = [Value.Zero, Value.Zero, Value.Zero, Value.Zero, Value.Zero, Value.Zero, Value.Zero]\n...     consistent_ones_seven_parties = [Value.One, Value.One, Value.One, Value.One, Value.One, Value.One, Value.One]\n...     for input in [consistent_zeros_seven_parties, consistent_ones_seven_parties]:\n...         for _ in range(5000):\n...             gradecastNetwork = SynchronousNetwork(GradecastParty, 2, 7, input, debug=False)\n...             result = gradecastNetwork.run(2)\n...             for i in range(7):\n...                 if gradecastNetwork.parties[i].is_faulty == False:\n...                     assert result[i] == (input[0], 2)\n...     return True\n>>> test1_validity()\nTrue",
         "hidden": false,
         "locked": false
        },
        {
         "code": ">>> def test1_knowledge_of_agreement():\n...     consistent_zeros = [Value.Zero, Value.Zero, Value.Zero, Value.Zero]\n...     skewed_zeros = [Value.Zero, Value.Zero, Value.Zero, Value.One]\n...     balanced_inputs = [Value.Zero, Value.Zero, Value.One, Value.One]\n...     skewed_ones = [Value.Zero, Value.One, Value.One, Value.One]\n...     consistent_ones = [Value.One, Value.One, Value.One, Value.One]\n...     for input in [consistent_zeros, skewed_zeros, balanced_inputs, skewed_ones, consistent_ones]:\n...         for _ in range(10000):\n...             gradecastNetwork = SynchronousNetwork(GradecastParty, 1, 4, input, debug=False)\n...             result = gradecastNetwork.run(2)\n...             for val in [Value.Zero, Value.One]:\n...                 if (val, 2) in result:\n...                     for i in range(4):\n...                         if gradecastNetwork.parties[i].is_faulty == False:\n...                             assert result[i][0] == val and result[i][1] >= 1\n...     return True\n>>> test1_knowledge_of_agreement()\nTrue",
         "hidden": false,
         "locked": false
        }
       ],
       "scored": true,
       "setup": "",
       "teardown": "",
       "type": "doctest"
      }
     ]
    },
    "q2": {
     "name": "q2",
     "points": 3,
     "suites": [
      {
       "cases": [
        {
         "code": ">>> def test2():\n...     consistent_zeros = [Value.Zero, Value.Zero, Value.Zero, Value.Zero]\n...     skewed_zeros = [Value.Zero, Value.Zero, Value.Zero, Value.One]\n...     balanced_inputs = [Value.Zero, Value.Zero, Value.One, Value.One]\n...     skewed_ones = [Value.Zero, Value.One, Value.One, Value.One]\n...     consistent_ones = [Value.One, Value.One, Value.One, Value.One]\n...     for input in [consistent_zeros, skewed_zeros, balanced_inputs, skewed_ones, consistent_ones]:\n...         for _ in range(8000):\n...             phaseking = SynchronousNetwork(PhaseKingParty, 1, 4, input, debug=False)\n...             result = phaseking.run(6)\n...             if phaseking.parties[0].is_faulty == False:\n...                 expected_output = input[0]\n...             else:\n...                 expected_output = result[1]\n...             for i in range(4):\n...                 if phaseking.parties[i].is_faulty == False:\n...                     assert result[i] == expected_output\n...     return True\n>>> test2()\nTrue",
         "hidden": false,
         "locked": false
        }
       ],
       "scored": true,
       "setup": "",
       "teardown": "",
       "type": "doctest"
      }
     ]
    }
   }
  }
 },
 "nbformat": 4,
 "nbformat_minor": 2
}
