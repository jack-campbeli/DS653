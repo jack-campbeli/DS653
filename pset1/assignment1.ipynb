{
 "cells": [
  {
   "cell_type": "code",
   "execution_count": 19,
   "metadata": {
    "deletable": false,
    "editable": false
   },
   "outputs": [],
   "source": [
    "# Initialize Otter\n",
    "import otter\n",
    "grader = otter.Notebook(\"assignment1.ipynb\")"
   ]
  },
  {
   "cell_type": "markdown",
   "metadata": {
    "id": "L6vqYT5xThpc"
   },
   "source": [
    "# DS 453 / 653: Programming Assignment 1\n",
    "\n",
    "**Due date**: Thursday, January 25 at 8pm on [Gradescope](https://www.gradescope.com/courses/710247).\n",
    "\n",
    "_You must follow the Academic Code of Conduct and Collaboration Policy stated in the course syllabus at all times while working on this assignment._\n",
    "\n",
    "This assignment contains 5 questions, each worth 1 point. You must receive at least 4 points to pass the assignment.\n",
    "\n",
    "To begin, please execute the code block below:"
   ]
  },
  {
   "cell_type": "code",
   "execution_count": 20,
   "metadata": {},
   "outputs": [],
   "source": [
    "import otter"
   ]
  },
  {
   "cell_type": "code",
   "execution_count": 21,
   "metadata": {
    "id": "-wnlMZVtThpd",
    "outputId": "19142d18-33f5-47c6-c6d8-309ae3a7f6b2"
   },
   "outputs": [],
   "source": [
    "grader = otter.Notebook()"
   ]
  },
  {
   "cell_type": "markdown",
   "metadata": {
    "deletable": false,
    "editable": false,
    "id": "gcR4AF0mThpf"
   },
   "source": [
    "**Question 1 (Integer to Hex):** Write a function `int_byte_to_hex` that receives a Python integer in the range 0 to 255, and returns a Python string corresponding to the same number in base 16 / hexadecimal format.\n",
    "\n",
    "As background: remember that a _byte_ of information contains 8 bits, so it can be used to represent a number between 0 and 255 (inclusive). In crypto, we often convert between different representations of a byte of information. One common representation that we will use often in this class is hexadecimal format, in which each symbol (0-9 or a-f) corresponds to a number between 0 and 15, and a byte can be represented with exactly two symbols."
   ]
  },
  {
   "cell_type": "code",
   "execution_count": 22,
   "metadata": {
    "id": "4ktlLSQ3Thpg",
    "tags": []
   },
   "outputs": [],
   "source": [
    "def int_byte_to_hex(the_input):\n",
    "    \"\"\" Read a single, decimal byte from the user and return a string of its\n",
    "    hexidecimal value. This string should use lowercase and should always be\n",
    "    exactly two characters long. Make sure you pad the beginning with a 0 if\n",
    "    necessary, and make sure the string does NOT start with '0x'.\n",
    "\n",
    "    Example test cases:\n",
    "\n",
    "        255 -> \"ff\"\n",
    "        10 -> \"0a\"\n",
    "        65 -> \"41\"\n",
    "        161 -> \"a1\"\n",
    "    \"\"\"\n",
    "    assert(type(the_input) == int)               # the input is an integer\n",
    "    assert(the_input >= 0 and the_input <= 255)  # between 0 and 255, inclusive\n",
    "\n",
    "    # todo: implement this function\n",
    "    hex_value = hex(the_input)[2:]\n",
    "    return hex_value if len(hex_value) == 2 else \"0\" + hex_value\n"
   ]
  },
  {
   "cell_type": "markdown",
   "metadata": {
    "deletable": false,
    "editable": false,
    "id": "ffYXZRdkThpg"
   },
   "source": [
    "As you will see throughout this course, crypto code can be incredibly precise and finicky. For this reason: most programming questions will be accommpanied by **test cases**, which are example inputs and outputs to a function that allow you to check whether your code is working properly.\n",
    "\n",
    "In this question, we provide test cases in human-readable format in the comment above, and we also provide unit tests for you to use below."
   ]
  },
  {
   "cell_type": "code",
   "execution_count": 23,
   "metadata": {
    "deletable": false,
    "editable": false
   },
   "outputs": [
    {
     "data": {
      "text/html": [
       "<p><strong><pre style='display: inline;'>q1</pre></strong> passed! ✨</p>"
      ],
      "text/plain": [
       "q1 results: All test cases passed!"
      ]
     },
     "execution_count": 23,
     "metadata": {},
     "output_type": "execute_result"
    }
   ],
   "source": [
    "grader.check(\"q1\")"
   ]
  },
  {
   "cell_type": "markdown",
   "metadata": {
    "deletable": false,
    "editable": false,
    "id": "xp3Vv6SdThpi"
   },
   "source": [
    "**Question 2 (Binary string to Hex):** Write a function `string_to_hexstring` that receives a Python bytestring as input, and returns the hexadecimal representation of the same bytestring.\n",
    "\n",
    "As a hint: the `binascii` library includes a function that will do this for you. Take a look at its documentation here: https://docs.python.org/3/library/binascii.html"
   ]
  },
  {
   "cell_type": "code",
   "execution_count": 24,
   "metadata": {
    "id": "OUvevIGkThpj",
    "tags": []
   },
   "outputs": [],
   "source": [
    "def string_to_hexstring(the_input):\n",
    "    \"\"\" Take in a string (byte object), and return the hex string of the bytes\n",
    "    corresponding to it. While the hexlify() command will do this for you,\n",
    "    we ask that you instead solve this question by combining the methods\n",
    "    you have written so far in this assignment.\n",
    "\n",
    "    Example test case: b\"puzzle\" -> b\"70757a7a6c65\"\n",
    "    \"\"\"\n",
    "    import binascii\n",
    "    # todo: implement this function\n",
    "    return binascii.hexlify(the_input)"
   ]
  },
  {
   "cell_type": "markdown",
   "metadata": {
    "deletable": false,
    "editable": false,
    "id": "2jLi1SukThpj"
   },
   "source": [
    "Once again, we provide several unit tests for you. Note that in Python, bytestrings _must_ begin with the letter `b` before the quotation marks at the start of a string. Remember **always** to do this when creating bytestrings in this course! (Otherwise, you can find yourself stuck with an annoying error that is difficult to debug.)\n",
    "\n",
    "The prefix `b` changes the type of the Python variable from `string` to `bytes`. We will usually prefer to use `bytes` in this course."
   ]
  },
  {
   "cell_type": "code",
   "execution_count": 25,
   "metadata": {
    "deletable": false,
    "editable": false,
    "id": "ZqWzv64GThpj",
    "outputId": "127d5f06-0c4b-4bfc-8ac4-98a9bc8314f5"
   },
   "outputs": [
    {
     "name": "stdout",
     "output_type": "stream",
     "text": [
      "<class 'str'> <class 'bytes'>\n"
     ]
    }
   ],
   "source": [
    "print(type(\"puzzle\"), type(b\"puzzle\"))"
   ]
  },
  {
   "cell_type": "code",
   "execution_count": 26,
   "metadata": {
    "deletable": false,
    "editable": false
   },
   "outputs": [
    {
     "data": {
      "text/html": [
       "<p><strong><pre style='display: inline;'>q2</pre></strong> passed! 🎉</p>"
      ],
      "text/plain": [
       "q2 results: All test cases passed!"
      ]
     },
     "execution_count": 26,
     "metadata": {},
     "output_type": "execute_result"
    }
   ],
   "source": [
    "grader.check(\"q2\")"
   ]
  },
  {
   "cell_type": "markdown",
   "metadata": {
    "deletable": false,
    "editable": false,
    "id": "kkEML4_tThpl"
   },
   "source": [
    "**Question 3 (Length of bytestring vs hexadecimal string):** Note from the previous question that the length of a Python bytestring is different from the length of its hexadecimal encoding! Let's explore that in more detail in this question.\n",
    "\n",
    "Write a function `compare_lengths` that receives an integer length, constructs a bytestring of the given length, and measures the length of the resulting hexadecimal string. (We've actually done the first part for you.)"
   ]
  },
  {
   "cell_type": "code",
   "execution_count": 27,
   "metadata": {
    "id": "aSwFkupkThpl",
    "tags": []
   },
   "outputs": [],
   "source": [
    "def hex_length(input_length):\n",
    "    \"\"\" Construct a test_bytestring of the provided input_length,\n",
    "        convert it to hexadecimal format, and then output\n",
    "        the length of the resulting hex string.\n",
    "\n",
    "    Example test case: 6 -> 12\n",
    "    \"\"\"\n",
    "    import binascii\n",
    "    test_bytestring = input_length * b'\\x00'\n",
    "    # todo: implement the rest of this function\n",
    "    return len(binascii.hexlify(test_bytestring))"
   ]
  },
  {
   "cell_type": "markdown",
   "metadata": {
    "deletable": false,
    "editable": false,
    "id": "7kiLKv1NThpm"
   },
   "source": [
    "This time, we have only provided one publicly-visible test. But you should try to run this function on many inputs, and observe the resulting pattern."
   ]
  },
  {
   "cell_type": "code",
   "execution_count": 28,
   "metadata": {
    "deletable": false,
    "editable": false
   },
   "outputs": [
    {
     "data": {
      "text/html": [
       "<p><strong><pre style='display: inline;'>q3</pre></strong> passed! 🙌</p>"
      ],
      "text/plain": [
       "q3 results: All test cases passed!"
      ]
     },
     "execution_count": 28,
     "metadata": {},
     "output_type": "execute_result"
    }
   ],
   "source": [
    "grader.check(\"q3\")"
   ]
  },
  {
   "cell_type": "markdown",
   "metadata": {
    "deletable": false,
    "editable": false,
    "id": "8HQxgh-QThpo"
   },
   "source": [
    "**Question 4 (Hex to Base64):** Write a function `hexstring_to_base64` that receives a hexadecimal encoding of a bytestring, and returns the Base 64 encoding of the same bytestring.\n",
    "\n",
    "(Note: this is actually the first challenge in the [Cryptopals](https://cryptopals.com/sets/1/challenges/1) crypto coding challenges. We might see some other challenges from Cryptopals later in the semester.)\n",
    "\n",
    "This time, you might find the `base64` library to be useful. Whenever you explore a new Python library in this course, it is always a good idea to take a few minutes to read its documentation. Here's the documentation for `base64`: https://docs.python.org/3/library/base64.html"
   ]
  },
  {
   "cell_type": "code",
   "execution_count": 29,
   "metadata": {
    "id": "1UZlXLw4Thpp",
    "tags": []
   },
   "outputs": [],
   "source": [
    "import base64\n",
    "import binascii\n",
    "\n",
    "def hexstring_to_base64(the_input):\n",
    "    \"\"\" Convert the_input from hex to base64 format.\n",
    "\n",
    "    Example test cases:\n",
    "    b'1de965a3ef96a2b95d' -> b'Hello++World'\n",
    "    b'49276d206b696c6c696e6720796f757220627261696e206c696b65206120706f69736f6e6f7573206d757368726f6f6d' -> b'SSdtIGtpbGxpbmcgeW91ciBicmFpbiBsaWtlIGEgcG9pc29ub3VzIG11c2hyb29t'\n",
    "    \"\"\"\n",
    "    # todo: implement the rest of this function\n",
    "    return base64.b64encode(binascii.unhexlify((the_input)))"
   ]
  },
  {
   "cell_type": "code",
   "execution_count": 30,
   "metadata": {},
   "outputs": [
    {
     "name": "stdout",
     "output_type": "stream",
     "text": [
      "b'Hello++World'\n"
     ]
    }
   ],
   "source": [
    "print(hexstring_to_base64(b'1de965a3ef96a2b95d'))"
   ]
  },
  {
   "cell_type": "code",
   "execution_count": 31,
   "metadata": {
    "deletable": false,
    "editable": false
   },
   "outputs": [
    {
     "data": {
      "text/html": [
       "<p><strong><pre style='display: inline;'>q4</pre></strong> passed! 🚀</p>"
      ],
      "text/plain": [
       "q4 results: All test cases passed!"
      ]
     },
     "execution_count": 31,
     "metadata": {},
     "output_type": "execute_result"
    }
   ],
   "source": [
    "grader.check(\"q4\")"
   ]
  },
  {
   "cell_type": "markdown",
   "metadata": {
    "deletable": false,
    "editable": false,
    "id": "q69UF67rThpq"
   },
   "source": [
    "**Question 5 (One time pad):** Convert the inputs `hexMessage` and `hexKey` from hex to bytestrings, take the XOR of the two strings, and convert the result back to hex form.\n",
    "\n",
    "In more detail: this procedure performs our first cryptographic function, a _one-time pad_. The one-time pad takes two inputs, typically called the `message` and the `key`, and returns an output called the `ciphertext`. We will explore the one-time pad in more detail in a future week. For now, all that matters is that the `ciphertext` is defined as `message` XOR `key` -- where the XOR is done on a byte-by-byte basis, and the XOR is done over the raw bytestrings.\n",
    "\n",
    "However, it is often convenient for the inputs and outputs of a function to be hexadecimal representations of strings. The reason for that is simple: raw bytestrings might not always be printable, but hex strings always are. Consider for example the following 4-byte string."
   ]
  },
  {
   "cell_type": "code",
   "execution_count": 32,
   "metadata": {
    "deletable": false,
    "editable": false,
    "id": "UchSXoCyThpq",
    "outputId": "57188e67-b9bb-410b-f23a-d5a54ce4a539"
   },
   "outputs": [
    {
     "name": "stdout",
     "output_type": "stream",
     "text": [
      "The length of example_str is:\t\t\t\t 4\n",
      "If we try print it, the output is difficult to parse:\t b'\\x00\\x01\\x02\\x03'\n",
      "The hex representation is easy to read and copy:\t b'00010203'\n"
     ]
    }
   ],
   "source": [
    "example_str = b'\\x00\\x01\\x02\\x03'\n",
    "print(\"The length of example_str is:\\t\\t\\t\\t\",         len(example_str))\n",
    "print(\"If we try print it, the output is difficult to parse:\\t\",     example_str)\n",
    "print(\"The hex representation is easy to read and copy:\\t\", string_to_hexstring(example_str))"
   ]
  },
  {
   "cell_type": "markdown",
   "metadata": {
    "deletable": false,
    "editable": false,
    "id": "Gy9TMKoBThpq"
   },
   "source": [
    "For this reason, we will encode our inputs in the hexadecimal representation. Your code must convert them to bytestrings first, and then perform the XOR function. There is a Python function in the `Crypto.Util` module that performs the string XOR for you.\n",
    "\n",
    "(If you are running this code on your own machine rather than Google Colab: in order use this package, you must install the `pycrypto` package on your computer using a command such as `pip3 install pycrypto`.)"
   ]
  },
  {
   "cell_type": "code",
   "execution_count": 33,
   "metadata": {
    "id": "XpQ8cvOaThpq",
    "tags": []
   },
   "outputs": [],
   "source": [
    "from Crypto.Util.strxor import strxor\n",
    "import base64\n",
    "import binascii\n",
    "\n",
    "def one_time_pad(hexMessage, hexKey):\n",
    "    \"\"\" Convert both inputs from hexadecimal to raw bytestrings,\n",
    "        take the xor of each byte of their strings, convert the\n",
    "        result back into hexadecimal format, and output it.\n",
    "\n",
    "        You can assume as a precondition that the two inputs have the same length.\n",
    "        We provide some test cases below.\n",
    "    \"\"\"\n",
    "    assert(len(hexMessage) == len(hexKey))\n",
    "    # todo: implement the rest of this function\n",
    "    message_str = binascii.unhexlify(hexMessage)\n",
    "    key_str = binascii.unhexlify(hexKey)\n",
    "    return binascii.hexlify(strxor(message_str, key_str))"
   ]
  },
  {
   "cell_type": "code",
   "execution_count": 34,
   "metadata": {
    "deletable": false,
    "editable": false
   },
   "outputs": [
    {
     "data": {
      "text/html": [
       "<p><strong><pre style='display: inline;'>q5</pre></strong> passed! 🍀</p>"
      ],
      "text/plain": [
       "q5 results: All test cases passed!"
      ]
     },
     "execution_count": 34,
     "metadata": {},
     "output_type": "execute_result"
    }
   ],
   "source": [
    "grader.check(\"q5\")"
   ]
  },
  {
   "cell_type": "markdown",
   "metadata": {
    "id": "i_IDv4mIThpr"
   },
   "source": [
    "## Submitting the Assignment\n",
    "\n",
    "Congratulations on completing the first assignment! Here's how to submit it and receive credit.\n",
    "\n",
    "**Documenting collaborators, sources, and AI tools:** In accordance with the collaboration policy, use the space below to report if you used any resources to complete this homework assignment, aside from the lecture notes and the course textbooks/videos. Specifically, please report:\n",
    "\n",
    "1. Names of all classmates you worked with, and a short description of the work that you performed together.\n",
    "2. All written materials that you used, such as books or websites (besides the lecture notes or textbooks). Please include links to any web-based resources, or citations to any physical works.\n",
    "3. All code that you used from other sources. In particular, if you used an AI tool, then you must include the entire exchange with the AI tool, as per the [CDS Generative AI Assistance Policy](https://www.bu.edu/cds-faculty/culture-community/gaia-policy/)."
   ]
  },
  {
   "cell_type": "markdown",
   "metadata": {
    "id": "fb5O4i5hThpr"
   },
   "source": [
    "_Your response:_\n",
    "\n",
    "1. N/A\n",
    "\n",
    "2. \n",
    "\n",
    "https://docs.python.org/3/library/base64.html#base64.b32encode,\n",
    "https://docs.python.org/3/library/binascii.html, \n",
    "https://pycryptodome.readthedocs.io/en/latest/src/util/util.html#crypto-util-strxor-module\n",
    "\n",
    "3. N/A"
   ]
  },
  {
   "cell_type": "markdown",
   "metadata": {
    "id": "-algFmYgThpr"
   },
   "source": [
    "**Sending to Gradescope:**\n",
    "\n",
    "After completing the assignment:\n",
    "    if you did the assignment on Colab, download it in `.ipynb` format\n",
    "    if you did the assignment locally on your machine, all you need to do is to find it in your directory\n",
    "\n",
    "Then, submit only the `.ipynb` file to Coding Assignment 1 on the GradeScope and it takes a while for the auto grading system to check your work."
   ]
  }
 ],
 "metadata": {
  "colab": {
   "provenance": []
  },
  "kernelspec": {
   "display_name": "Python 3",
   "language": "python",
   "name": "python3"
  },
  "language_info": {
   "codemirror_mode": {
    "name": "ipython",
    "version": 3
   },
   "file_extension": ".py",
   "mimetype": "text/x-python",
   "name": "python",
   "nbconvert_exporter": "python",
   "pygments_lexer": "ipython3",
   "version": "3.8.2"
  },
  "otter": {
   "OK_FORMAT": true,
   "tests": {
    "q1": {
     "name": "q1",
     "points": 1,
     "suites": [
      {
       "cases": [
        {
         "code": ">>> int_byte_to_hex(255) == 'ff'\nTrue",
         "hidden": false,
         "locked": false
        },
        {
         "code": ">>> int_byte_to_hex(10) == '0a'\nTrue",
         "hidden": false,
         "locked": false
        },
        {
         "code": ">>> int_byte_to_hex(65) == '41'\nTrue",
         "hidden": false,
         "locked": false
        },
        {
         "code": ">>> int_byte_to_hex(161) == 'a1'\nTrue",
         "hidden": false,
         "locked": false
        }
       ],
       "scored": true,
       "setup": "",
       "teardown": "",
       "type": "doctest"
      }
     ]
    },
    "q2": {
     "name": "q2",
     "points": 1,
     "suites": [
      {
       "cases": [
        {
         "code": ">>> string_to_hexstring(b'puzzle') == b'70757a7a6c65'\nTrue",
         "hidden": false,
         "locked": false
        },
        {
         "code": ">>> string_to_hexstring(b'hello-world') == b'68656c6c6f2d776f726c64'\nTrue",
         "hidden": false,
         "locked": false
        }
       ],
       "scored": true,
       "setup": "",
       "teardown": "",
       "type": "doctest"
      }
     ]
    },
    "q3": {
     "name": "q3",
     "points": 1,
     "suites": [
      {
       "cases": [
        {
         "code": ">>> hex_length(6) == 12\nTrue",
         "hidden": false,
         "locked": false
        }
       ],
       "scored": true,
       "setup": "",
       "teardown": "",
       "type": "doctest"
      }
     ]
    },
    "q4": {
     "name": "q4",
     "points": 1,
     "suites": [
      {
       "cases": [
        {
         "code": ">>> hexstring_to_base64(b'1de965a3ef96a2b95d') == b'Hello++World'\nTrue",
         "hidden": false,
         "locked": false
        },
        {
         "code": ">>> hexstring_to_base64(b'49276d206b696c6c696e6720796f757220627261696e206c696b65206120706f69736f6e6f7573206d757368726f6f6d') == b'SSdtIGtpbGxpbmcgeW91ciBicmFpbiBsaWtlIGEgcG9pc29ub3VzIG11c2hyb29t'\nTrue",
         "hidden": false,
         "locked": false
        }
       ],
       "scored": true,
       "setup": "",
       "teardown": "",
       "type": "doctest"
      }
     ]
    },
    "q5": {
     "name": "q5",
     "points": 1,
     "suites": [
      {
       "cases": [
        {
         "code": ">>> one_time_pad(b'001122', b'334455') == b'335577'\nTrue",
         "hidden": false,
         "locked": false
        },
        {
         "code": ">>> one_time_pad(b'00112233', b'44556677') == b'44444444'\nTrue",
         "hidden": false,
         "locked": false
        }
       ],
       "scored": true,
       "setup": "",
       "teardown": "",
       "type": "doctest"
      }
     ]
    }
   }
  },
  "varInspector": {
   "cols": {
    "lenName": 16,
    "lenType": 16,
    "lenVar": 40
   },
   "kernels_config": {
    "python": {
     "delete_cmd_postfix": "",
     "delete_cmd_prefix": "del ",
     "library": "var_list.py",
     "varRefreshCmd": "print(var_dic_list())"
    },
    "r": {
     "delete_cmd_postfix": ") ",
     "delete_cmd_prefix": "rm(",
     "library": "var_list.r",
     "varRefreshCmd": "cat(var_dic_list()) "
    }
   },
   "types_to_exclude": [
    "module",
    "function",
    "builtin_function_or_method",
    "instance",
    "_Feature"
   ],
   "window_display": false
  }
 },
 "nbformat": 4,
 "nbformat_minor": 0
}
